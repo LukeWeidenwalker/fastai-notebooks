{
  "nbformat": 4,
  "nbformat_minor": 0,
  "metadata": {
    "kernelspec": {
      "display_name": "Python [conda env:ai-notebooks] *",
      "language": "python",
      "name": "conda-env-ai-notebooks-py"
    },
    "language_info": {
      "codemirror_mode": {
        "name": "ipython",
        "version": 3
      },
      "file_extension": ".py",
      "mimetype": "text/x-python",
      "name": "python",
      "nbconvert_exporter": "python",
      "pygments_lexer": "ipython3",
      "version": "3.9.1"
    },
    "colab": {
      "name": "fastai_mnist.ipynb",
      "provenance": []
    },
    "accelerator": "GPU"
  },
  "cells": [
    {
      "cell_type": "code",
      "metadata": {
        "id": "t_kkM7VebmnD",
        "outputId": "7caa6626-fbb0-4e4e-9ba9-f3fcb66d8694",
        "colab": {
          "base_uri": "https://localhost:8080/"
        }
      },
      "source": [
        "!pip install -Uqq fastbook\n",
        "import fastbook\n",
        "fastbook.setup_book()"
      ],
      "execution_count": 1,
      "outputs": [
        {
          "output_type": "stream",
          "text": [
            "\u001b[K     |████████████████████████████████| 727kB 5.5MB/s \n",
            "\u001b[K     |████████████████████████████████| 1.2MB 8.5MB/s \n",
            "\u001b[K     |████████████████████████████████| 194kB 11.7MB/s \n",
            "\u001b[K     |████████████████████████████████| 51kB 6.0MB/s \n",
            "\u001b[K     |████████████████████████████████| 61kB 6.7MB/s \n",
            "\u001b[?25hMounted at /content/gdrive\n"
          ],
          "name": "stdout"
        }
      ]
    },
    {
      "cell_type": "code",
      "metadata": {
        "id": "CYXRq6ObcT5o"
      },
      "source": [
        "from fastai.vision.all import *\n",
        "from fastbook import *"
      ],
      "execution_count": 2,
      "outputs": []
    },
    {
      "cell_type": "code",
      "metadata": {
        "id": "kZ6FPr1Gcmyx",
        "outputId": "0f8d308f-fcf2-425a-aa75-819f8ba2ab43",
        "colab": {
          "base_uri": "https://localhost:8080/",
          "height": 17
        }
      },
      "source": [
        "path = untar_data(URLs.MNIST_SAMPLE)\n",
        "Path.BASE_PATH = path"
      ],
      "execution_count": 3,
      "outputs": [
        {
          "output_type": "display_data",
          "data": {
            "text/html": [
              ""
            ],
            "text/plain": [
              "<IPython.core.display.HTML object>"
            ]
          },
          "metadata": {
            "tags": []
          }
        }
      ]
    },
    {
      "cell_type": "code",
      "metadata": {
        "id": "5nh0MRkycvGN",
        "outputId": "9620088c-d7ce-4581-8c5b-89b3fbeaeab9",
        "colab": {
          "base_uri": "https://localhost:8080/"
        }
      },
      "source": [
        "(path/\"train\").ls()\n",
        "# what I need to do:\n",
        "# I need to load in the dataset as tensors, and create a corresponding y tensor with the right labels"
      ],
      "execution_count": 6,
      "outputs": [
        {
          "output_type": "execute_result",
          "data": {
            "text/plain": [
              "(#2) [Path('train/3'),Path('train/7')]"
            ]
          },
          "metadata": {
            "tags": []
          },
          "execution_count": 6
        }
      ]
    },
    {
      "cell_type": "code",
      "metadata": {
        "id": "7ncTv_LLc4NJ",
        "outputId": "b18a1d08-a6f8-4c4a-a1f8-9c74f8fd1ae7",
        "colab": {
          "base_uri": "https://localhost:8080/"
        }
      },
      "source": [
        "threes = torch.stack([tensor(Image.open(im)) for im in (path/\"train\"/'3').ls().sorted()])\n",
        "sevens = torch.stack([tensor(Image.open(im)) for im in (path/\"train\"/'7').ls().sorted()])\n",
        "threes.shape, sevens.shape"
      ],
      "execution_count": 34,
      "outputs": [
        {
          "output_type": "execute_result",
          "data": {
            "text/plain": [
              "(torch.Size([6131, 28, 28]), torch.Size([6265, 28, 28]))"
            ]
          },
          "metadata": {
            "tags": []
          },
          "execution_count": 34
        }
      ]
    },
    {
      "cell_type": "code",
      "metadata": {
        "id": "i3NFc5NpfeiS",
        "outputId": "01e7cdfe-65b8-4c16-cb86-ea82b336a15f",
        "colab": {
          "base_uri": "https://localhost:8080/"
        }
      },
      "source": [
        "x_train = torch.cat((threes, sevens)).view(-1, 28*28) / 255.0; x_train.shape\n",
        "x_train.shape, x_train.type()"
      ],
      "execution_count": 37,
      "outputs": [
        {
          "output_type": "execute_result",
          "data": {
            "text/plain": [
              "torch.Size([12396, 784])"
            ]
          },
          "metadata": {
            "tags": []
          },
          "execution_count": 37
        }
      ]
    },
    {
      "cell_type": "code",
      "metadata": {
        "id": "eGyBk27JnWH6",
        "outputId": "fd0b6d1f-8543-4bd8-e28d-28a8be845e8e",
        "colab": {
          "base_uri": "https://localhost:8080/"
        }
      },
      "source": [
        "y_train = tensor([0]*len(threes) + [1]*len(sevens)).unsqueeze(1); y_train.shape, y_train.type()"
      ],
      "execution_count": 32,
      "outputs": [
        {
          "output_type": "execute_result",
          "data": {
            "text/plain": [
              "torch.Size([12396, 1])"
            ]
          },
          "metadata": {
            "tags": []
          },
          "execution_count": 32
        }
      ]
    },
    {
      "cell_type": "code",
      "metadata": {
        "id": "CwAZceCKoUJ0"
      },
      "source": [
        "train_dset = list(zip(x_train, y_train))"
      ],
      "execution_count": 42,
      "outputs": []
    },
    {
      "cell_type": "code",
      "metadata": {
        "id": "H-t9iixbpr0w"
      },
      "source": [
        "# Now do the same for the validation set\n",
        "threes_valid = torch.stack([tensor(Image.open(im)) for im in (path/\"valid\"/'3').ls().sorted()])\n",
        "sevens_valid = torch.stack([tensor(Image.open(im)) for im in (path/\"valid\"/'7').ls().sorted()])\n",
        "\n",
        "x_valid = torch.cat((threes_valid, sevens_valid)).view(-1, 28*28) / 255.0; x_train.shape\n",
        "y_valid = tensor([0]*len(threes_valid) + [1]*len(sevens_valid)).unsqueeze(1); y_valid.shape, y_valid.type()\n",
        "\n",
        "valid_dset = list(zip(x_valid, y_valid))"
      ],
      "execution_count": 48,
      "outputs": []
    },
    {
      "cell_type": "code",
      "metadata": {
        "id": "9F9yWtbCqi-1"
      },
      "source": [
        "train_dl = DataLoader(train_dset, shuffle=True, bs=64)\n",
        "valid_dl = DataLoader(valid_dset, shuffle=False, bs=64)\n",
        "dls = DataLoaders(train_dl, valid_dl)"
      ],
      "execution_count": 53,
      "outputs": []
    },
    {
      "cell_type": "code",
      "metadata": {
        "id": "7SrLbPeQrD4b",
        "outputId": "a92c1f08-c9e2-467e-98b1-3c384d0bb756",
        "colab": {
          "base_uri": "https://localhost:8080/"
        }
      },
      "source": [
        "dls.train.one_batch()[0].shape"
      ],
      "execution_count": 59,
      "outputs": [
        {
          "output_type": "execute_result",
          "data": {
            "text/plain": [
              "torch.Size([64, 784])"
            ]
          },
          "metadata": {
            "tags": []
          },
          "execution_count": 59
        }
      ]
    },
    {
      "cell_type": "code",
      "metadata": {
        "id": "WljdI5wBrfK4"
      },
      "source": [
        ""
      ],
      "execution_count": null,
      "outputs": []
    }
  ]
}