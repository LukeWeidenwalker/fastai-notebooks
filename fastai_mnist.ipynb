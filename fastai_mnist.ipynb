{
  "nbformat": 4,
  "nbformat_minor": 0,
  "metadata": {
    "kernelspec": {
      "display_name": "Python [conda env:ai-notebooks] *",
      "language": "python",
      "name": "conda-env-ai-notebooks-py"
    },
    "language_info": {
      "codemirror_mode": {
        "name": "ipython",
        "version": 3
      },
      "file_extension": ".py",
      "mimetype": "text/x-python",
      "name": "python",
      "nbconvert_exporter": "python",
      "pygments_lexer": "ipython3",
      "version": "3.9.1"
    },
    "colab": {
      "name": "fastai_mnist.ipynb",
      "provenance": [],
      "include_colab_link": true
    },
    "accelerator": "GPU"
  },
  "cells": [
    {
      "cell_type": "markdown",
      "metadata": {
        "id": "view-in-github",
        "colab_type": "text"
      },
      "source": [
        "<a href=\"https://colab.research.google.com/github/LukeWeidenwalker/ai-notebooks/blob/master/fastai_mnist.ipynb\" target=\"_parent\"><img src=\"https://colab.research.google.com/assets/colab-badge.svg\" alt=\"Open In Colab\"/></a>"
      ]
    },
    {
      "cell_type": "code",
      "metadata": {
        "id": "t_kkM7VebmnD",
        "colab": {
          "base_uri": "https://localhost:8080/"
        },
        "outputId": "d6973fe2-0ef0-42c7-fdd8-6597bbab4682"
      },
      "source": [
        "!pip install -Uqq fastbook\n",
        "import fastbook\n",
        "fastbook.setup_book()"
      ],
      "execution_count": 1,
      "outputs": [
        {
          "output_type": "stream",
          "text": [
            "\u001b[K     |████████████████████████████████| 727kB 14.9MB/s \n",
            "\u001b[K     |████████████████████████████████| 1.2MB 42.8MB/s \n",
            "\u001b[K     |████████████████████████████████| 51kB 8.3MB/s \n",
            "\u001b[K     |████████████████████████████████| 194kB 61.2MB/s \n",
            "\u001b[K     |████████████████████████████████| 61kB 9.9MB/s \n",
            "\u001b[?25hMounted at /content/gdrive\n"
          ],
          "name": "stdout"
        }
      ]
    },
    {
      "cell_type": "code",
      "metadata": {
        "id": "CYXRq6ObcT5o"
      },
      "source": [
        "from fastai.vision.all import *\n",
        "from fastbook import *"
      ],
      "execution_count": 2,
      "outputs": []
    },
    {
      "cell_type": "code",
      "metadata": {
        "id": "kZ6FPr1Gcmyx",
        "colab": {
          "base_uri": "https://localhost:8080/",
          "height": 17
        },
        "outputId": "79f7e4c7-7032-49bb-9bd0-4b89353aad2b"
      },
      "source": [
        "path = untar_data(URLs.MNIST_SAMPLE)\n",
        "Path.BASE_PATH = path"
      ],
      "execution_count": 3,
      "outputs": [
        {
          "output_type": "display_data",
          "data": {
            "text/html": [
              ""
            ],
            "text/plain": [
              "<IPython.core.display.HTML object>"
            ]
          },
          "metadata": {
            "tags": []
          }
        }
      ]
    },
    {
      "cell_type": "code",
      "metadata": {
        "id": "5nh0MRkycvGN",
        "colab": {
          "base_uri": "https://localhost:8080/"
        },
        "outputId": "0194d5f1-c7a1-47cc-82a1-5338fb07367e"
      },
      "source": [
        "(path/\"train\").ls()\n",
        "# what I need to do:\n",
        "# I need to load in the dataset as tensors, and create a corresponding y tensor with the right labels"
      ],
      "execution_count": 4,
      "outputs": [
        {
          "output_type": "execute_result",
          "data": {
            "text/plain": [
              "(#2) [Path('train/7'),Path('train/3')]"
            ]
          },
          "metadata": {
            "tags": []
          },
          "execution_count": 4
        }
      ]
    },
    {
      "cell_type": "code",
      "metadata": {
        "id": "7ncTv_LLc4NJ",
        "colab": {
          "base_uri": "https://localhost:8080/"
        },
        "outputId": "2cfa53f3-9ca8-448b-e8e0-a02f9ca76392"
      },
      "source": [
        "threes = torch.stack([tensor(Image.open(im)) for im in (path/\"train\"/'3').ls().sorted()])\n",
        "sevens = torch.stack([tensor(Image.open(im)) for im in (path/\"train\"/'7').ls().sorted()])\n",
        "threes.shape, sevens.shape"
      ],
      "execution_count": 5,
      "outputs": [
        {
          "output_type": "execute_result",
          "data": {
            "text/plain": [
              "(torch.Size([6131, 28, 28]), torch.Size([6265, 28, 28]))"
            ]
          },
          "metadata": {
            "tags": []
          },
          "execution_count": 5
        }
      ]
    },
    {
      "cell_type": "code",
      "metadata": {
        "id": "i3NFc5NpfeiS",
        "colab": {
          "base_uri": "https://localhost:8080/"
        },
        "outputId": "c54c80a9-03d7-4928-a2a8-476c90a679cd"
      },
      "source": [
        "x_train = torch.cat((threes, sevens)).view(-1, 28*28) / 255.0; x_train.shape\n",
        "x_train.shape, x_train.type()"
      ],
      "execution_count": 6,
      "outputs": [
        {
          "output_type": "execute_result",
          "data": {
            "text/plain": [
              "(torch.Size([12396, 784]), 'torch.FloatTensor')"
            ]
          },
          "metadata": {
            "tags": []
          },
          "execution_count": 6
        }
      ]
    },
    {
      "cell_type": "code",
      "metadata": {
        "id": "eGyBk27JnWH6",
        "colab": {
          "base_uri": "https://localhost:8080/"
        },
        "outputId": "2f1804b8-72df-4411-94db-d04390beac28"
      },
      "source": [
        "y_train = tensor([0]*len(threes) + [1]*len(sevens)).unsqueeze(1); y_train.shape, y_train.type()"
      ],
      "execution_count": 7,
      "outputs": [
        {
          "output_type": "execute_result",
          "data": {
            "text/plain": [
              "(torch.Size([12396, 1]), 'torch.LongTensor')"
            ]
          },
          "metadata": {
            "tags": []
          },
          "execution_count": 7
        }
      ]
    },
    {
      "cell_type": "code",
      "metadata": {
        "id": "CwAZceCKoUJ0"
      },
      "source": [
        "train_dset = list(zip(x_train, y_train))"
      ],
      "execution_count": 8,
      "outputs": []
    },
    {
      "cell_type": "code",
      "metadata": {
        "id": "H-t9iixbpr0w"
      },
      "source": [
        "# Now do the same for the validation set\n",
        "threes_valid = torch.stack([tensor(Image.open(im)) for im in (path/\"valid\"/'3').ls().sorted()])\n",
        "sevens_valid = torch.stack([tensor(Image.open(im)) for im in (path/\"valid\"/'7').ls().sorted()])\n",
        "\n",
        "x_valid = torch.cat((threes_valid, sevens_valid)).view(-1, 28*28) / 255.0; x_train.shape\n",
        "y_valid = tensor([0]*len(threes_valid) + [1]*len(sevens_valid)).unsqueeze(1); y_valid.shape, y_valid.type()\n",
        "\n",
        "valid_dset = list(zip(x_valid, y_valid))"
      ],
      "execution_count": 9,
      "outputs": []
    },
    {
      "cell_type": "code",
      "metadata": {
        "id": "9F9yWtbCqi-1"
      },
      "source": [
        "train_dl = DataLoader(train_dset, shuffle=True, bs=256)\n",
        "valid_dl = DataLoader(valid_dset, shuffle=False, bs=256)\n",
        "dls = DataLoaders(train_dl, valid_dl)"
      ],
      "execution_count": 10,
      "outputs": []
    },
    {
      "cell_type": "code",
      "metadata": {
        "id": "7SrLbPeQrD4b",
        "colab": {
          "base_uri": "https://localhost:8080/"
        },
        "outputId": "2992d453-6cbb-4fb4-82a9-fc9632275da5"
      },
      "source": [
        "dls.train.one_batch()[0].shape"
      ],
      "execution_count": 11,
      "outputs": [
        {
          "output_type": "execute_result",
          "data": {
            "text/plain": [
              "torch.Size([256, 784])"
            ]
          },
          "metadata": {
            "tags": []
          },
          "execution_count": 11
        }
      ]
    },
    {
      "cell_type": "markdown",
      "metadata": {
        "id": "9eKg1ZQ6Sfh3"
      },
      "source": [
        "# Model"
      ]
    },
    {
      "cell_type": "code",
      "metadata": {
        "id": "WljdI5wBrfK4",
        "colab": {
          "base_uri": "https://localhost:8080/"
        },
        "outputId": "cfd02700-9ca9-4327-efd7-e1fb7f7f4bbe"
      },
      "source": [
        "def mnist_loss(preds, target):\n",
        "  return torch.where(target==1, 1-preds, preds).mean()\n",
        "\n",
        "preds = tensor([0.2, 0.6, 0.3])\n",
        "target = tensor([0, 1, 1])\n",
        "mnist_loss(preds, target)"
      ],
      "execution_count": 59,
      "outputs": [
        {
          "output_type": "execute_result",
          "data": {
            "text/plain": [
              "tensor(0.4333)"
            ]
          },
          "metadata": {
            "tags": []
          },
          "execution_count": 59
        }
      ]
    },
    {
      "cell_type": "code",
      "metadata": {
        "colab": {
          "base_uri": "https://localhost:8080/"
        },
        "id": "-QXlKWgKj8nv",
        "outputId": "21724f1e-4234-4e13-8a1d-558940afc704"
      },
      "source": [
        "def batch_accuracy(preds, yb):\n",
        "  preds = preds.sigmoid()\n",
        "  correct = (preds > 0.5) == yb\n",
        "  return correct.float().mean()\n",
        "\n",
        "xb = tensor([0.2, 0.2, 0.6])\n",
        "yb = tensor([0, 1, 1])\n",
        "batch_accuracy(xb, yb)"
      ],
      "execution_count": 38,
      "outputs": [
        {
          "output_type": "execute_result",
          "data": {
            "text/plain": [
              "tensor(0.6667)"
            ]
          },
          "metadata": {
            "tags": []
          },
          "execution_count": 38
        }
      ]
    },
    {
      "cell_type": "code",
      "metadata": {
        "id": "Gv7AMiXekGOY"
      },
      "source": [
        "class BasicOptimiser:\n",
        "  def __init__(self, params, lr):\n",
        "    self.params,self.lr = list(params),lr\n",
        "\n",
        "  def step(self):\n",
        "    for p in self.params:\n",
        "      p.data -= p.grad.data * self.lr\n",
        "\n",
        "  def zero_grad(self):\n",
        "    for p in self.params:\n",
        "      p.grad = None"
      ],
      "execution_count": 39,
      "outputs": []
    },
    {
      "cell_type": "code",
      "metadata": {
        "id": "9oCEr4eJkKAl"
      },
      "source": [
        "class SimpleNet:\n",
        "  def __init__(self, input_size, output_size):\n",
        "    self.w = self.init_parameters((input_size, output_size))\n",
        "    self.b = self.init_parameters(1)\n",
        "\n",
        "  def init_parameters(self, shape):\n",
        "    return torch.rand(shape).requires_grad_()\n",
        "\n",
        "  def __call__(self, xb):\n",
        "    return xb@self.w + self.b\n",
        "\n",
        "  def parameters(self):\n",
        "    return self.w, self.b"
      ],
      "execution_count": 40,
      "outputs": []
    },
    {
      "cell_type": "code",
      "metadata": {
        "id": "Iy2CzjQvwLNS"
      },
      "source": [
        "class BasicSigmoid:\n",
        "  def __call__(self, xb):\n",
        "    return xb.sigmoid()\n",
        "\n",
        "  def parameters(self):\n",
        "    return []"
      ],
      "execution_count": 41,
      "outputs": []
    },
    {
      "cell_type": "code",
      "metadata": {
        "id": "u9n2r7s2pFAN"
      },
      "source": [
        "class BasicSequential:\n",
        "  def __init__(self, layers):\n",
        "    self.layers = layers\n",
        "\n",
        "  def __call__(self, xb):\n",
        "    for layer in self.layers:\n",
        "      xb = layer(xb)\n",
        "    return xb\n",
        "\n",
        "  def parameters(self):\n",
        "    return [p for layer in self.layers for p in layer.parameters()]\n",
        "    "
      ],
      "execution_count": 42,
      "outputs": []
    },
    {
      "cell_type": "code",
      "metadata": {
        "id": "-oFPB37skB3R"
      },
      "source": [
        "class BasicLearner:\n",
        "  def __init__(self, dls, model, opt_func, loss_function, batch_accuracy):\n",
        "    self.dls = dls\n",
        "    self.model = model\n",
        "    self.opt_func = opt_func\n",
        "    self.loss_function = loss_function\n",
        "    self.batch_accuracy = batch_accuracy\n",
        "\n",
        "  def validate_epoch(self):\n",
        "    accs = [self.batch_accuracy(self.model(xb), yb) for xb, yb in self.dls.valid]\n",
        "    return round(torch.stack(accs).mean().item(), 4)\n",
        "\n",
        "  def fit(self, epochs):\n",
        "    for epoch in range(epochs):\n",
        "      accs = []\n",
        "      for xb, yb in self.dls.train:\n",
        "        preds = self.model(xb)\n",
        "        loss = self.loss_function(preds, yb)\n",
        "        loss.backward()\n",
        "        self.opt_func.step()\n",
        "        self.opt_func.zero_grad()\n",
        "      # print(model.parameters()[0])\n",
        "      # print(model.parameters()[0].grad)\n",
        "      print(f\"Epoch {epoch}, Accuracy: {self.validate_epoch()}\")\n",
        "      "
      ],
      "execution_count": 60,
      "outputs": []
    },
    {
      "cell_type": "code",
      "metadata": {
        "id": "Bu_jjl5lqfzI"
      },
      "source": [
        "model = SimpleNet(28*28, 1)"
      ],
      "execution_count": 61,
      "outputs": []
    },
    {
      "cell_type": "code",
      "metadata": {
        "colab": {
          "base_uri": "https://localhost:8080/"
        },
        "id": "FhcXL7q7sMiO",
        "outputId": "5dd9665b-ba27-42ea-cfab-efc2be370cf9"
      },
      "source": [
        "learner = BasicLearner(dls, model, BasicOptimiser(model.parameters(), 0.03), mnist_loss, batch_accuracy)\n",
        "learner.fit(10)"
      ],
      "execution_count": 62,
      "outputs": [
        {
          "output_type": "stream",
          "text": [
            "Epoch 0, Accuracy: 0.5068\n",
            "Epoch 1, Accuracy: 0.5068\n",
            "Epoch 2, Accuracy: 0.5503\n",
            "Epoch 3, Accuracy: 0.7471\n",
            "Epoch 4, Accuracy: 0.8506\n",
            "Epoch 5, Accuracy: 0.9072\n",
            "Epoch 6, Accuracy: 0.9268\n",
            "Epoch 7, Accuracy: 0.9414\n",
            "Epoch 8, Accuracy: 0.9487\n",
            "Epoch 9, Accuracy: 0.9541\n"
          ],
          "name": "stdout"
        }
      ]
    },
    {
      "cell_type": "code",
      "metadata": {
        "id": "Dkt1CQmPw9fr"
      },
      "source": [
        ""
      ],
      "execution_count": null,
      "outputs": []
    }
  ]
}