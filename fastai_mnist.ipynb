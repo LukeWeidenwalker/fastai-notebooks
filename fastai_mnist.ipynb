{
  "nbformat": 4,
  "nbformat_minor": 0,
  "metadata": {
    "kernelspec": {
      "display_name": "Python [conda env:ai-notebooks] *",
      "language": "python",
      "name": "conda-env-ai-notebooks-py"
    },
    "language_info": {
      "codemirror_mode": {
        "name": "ipython",
        "version": 3
      },
      "file_extension": ".py",
      "mimetype": "text/x-python",
      "name": "python",
      "nbconvert_exporter": "python",
      "pygments_lexer": "ipython3",
      "version": "3.9.1"
    },
    "colab": {
      "name": "fastai_mnist.ipynb",
      "provenance": [],
      "include_colab_link": true
    }
  },
  "cells": [
    {
      "cell_type": "markdown",
      "metadata": {
        "id": "view-in-github",
        "colab_type": "text"
      },
      "source": [
        "<a href=\"https://colab.research.google.com/github/LukeWeidenwalker/ai-notebooks/blob/master/fastai_mnist.ipynb\" target=\"_parent\"><img src=\"https://colab.research.google.com/assets/colab-badge.svg\" alt=\"Open In Colab\"/></a>"
      ]
    },
    {
      "cell_type": "code",
      "metadata": {
        "id": "t_kkM7VebmnD",
        "colab": {
          "base_uri": "https://localhost:8080/"
        },
        "outputId": "42c46245-a8f5-448e-c35e-d0b4158da0c4"
      },
      "source": [
        "!pip install -Uqq fastbook\n",
        "import fastbook \n",
        "fastbook.setup_book()"
      ],
      "execution_count": 1,
      "outputs": [
        {
          "output_type": "stream",
          "text": [
            "\u001b[K     |████████████████████████████████| 727kB 15.5MB/s \n",
            "\u001b[K     |████████████████████████████████| 1.2MB 54.4MB/s \n",
            "\u001b[K     |████████████████████████████████| 194kB 56.5MB/s \n",
            "\u001b[K     |████████████████████████████████| 51kB 7.9MB/s \n",
            "\u001b[K     |████████████████████████████████| 61kB 8.7MB/s \n",
            "\u001b[?25hMounted at /content/gdrive\n"
          ],
          "name": "stdout"
        }
      ]
    },
    {
      "cell_type": "code",
      "metadata": {
        "id": "CYXRq6ObcT5o"
      },
      "source": [
        "from fastai.vision.all import *\n",
        "from fastbook import *\n",
        "from time import time\n"
      ],
      "execution_count": 2,
      "outputs": []
    },
    {
      "cell_type": "code",
      "metadata": {
        "id": "3I3XYIEktkpU"
      },
      "source": [
        "torch.random.manual_seed(42);\n",
        "torch.set_printoptions(sci_mode=False)"
      ],
      "execution_count": 3,
      "outputs": []
    },
    {
      "cell_type": "code",
      "metadata": {
        "id": "kZ6FPr1Gcmyx",
        "colab": {
          "base_uri": "https://localhost:8080/",
          "height": 17
        },
        "outputId": "41002b12-c06c-4670-d666-7f3f37c07bce"
      },
      "source": [
        "path = untar_data(URLs.MNIST)\n",
        "Path.BASE_PATH = path"
      ],
      "execution_count": 4,
      "outputs": [
        {
          "output_type": "display_data",
          "data": {
            "text/html": [
              ""
            ],
            "text/plain": [
              "<IPython.core.display.HTML object>"
            ]
          },
          "metadata": {
            "tags": []
          }
        }
      ]
    },
    {
      "cell_type": "code",
      "metadata": {
        "colab": {
          "base_uri": "https://localhost:8080/"
        },
        "id": "IffGscQgxy7J",
        "outputId": "7fc3e3d7-73c3-4915-e2d9-7075d05fc28a"
      },
      "source": [
        "path.ls()"
      ],
      "execution_count": 5,
      "outputs": [
        {
          "output_type": "execute_result",
          "data": {
            "text/plain": [
              "(#2) [Path('training'),Path('testing')]"
            ]
          },
          "metadata": {
            "tags": []
          },
          "execution_count": 5
        }
      ]
    },
    {
      "cell_type": "code",
      "metadata": {
        "id": "ElpnIcsIUz_n"
      },
      "source": [
        "digits = DataBlock(blocks=(ImageBlock(cls=PILImageBW), CategoryBlock),\n",
        "                   get_items=get_image_files,\n",
        "                   splitter=GrandparentSplitter(train_name='training', valid_name='testing'),\n",
        "                   get_y=parent_label)"
      ],
      "execution_count": 6,
      "outputs": []
    },
    {
      "cell_type": "code",
      "metadata": {
        "id": "Q0LuCWpBU1dz"
      },
      "source": [
        "dls = digits.dataloaders(path)"
      ],
      "execution_count": 7,
      "outputs": []
    },
    {
      "cell_type": "code",
      "metadata": {
        "colab": {
          "base_uri": "https://localhost:8080/"
        },
        "id": "EZpnXI4xaNm6",
        "outputId": "3361f52e-5aa9-4788-a4fb-6a7350358c9e"
      },
      "source": [
        "dls.one_batch()[0].shape, dls.one_batch()[1]"
      ],
      "execution_count": 8,
      "outputs": [
        {
          "output_type": "execute_result",
          "data": {
            "text/plain": [
              "((64, 1, 28, 28),\n",
              " TensorCategory([7, 0, 5, 7, 1, 7, 9, 8, 0, 9, 0, 5, 5, 7, 1, 7, 5, 5, 0, 1, 3, 5, 6, 8, 7, 4, 9, 2, 4, 4, 4, 5, 0, 8, 7, 1, 7, 3, 1, 3, 4, 8, 0, 0, 8, 4, 1, 4, 1, 7, 9, 5, 5, 4, 2, 0, 5, 5, 4, 5, 8, 8, 5, 8],\n",
              "        device='cuda:0'))"
            ]
          },
          "metadata": {
            "tags": []
          },
          "execution_count": 8
        }
      ]
    },
    {
      "cell_type": "code",
      "metadata": {
        "colab": {
          "base_uri": "https://localhost:8080/"
        },
        "id": "ZVKzG8OLwR1w",
        "outputId": "d72beda5-66a9-46b0-c96b-f3ee668471a0"
      },
      "source": [
        "dls.valid.one_batch()[0][0].shape"
      ],
      "execution_count": 9,
      "outputs": [
        {
          "output_type": "execute_result",
          "data": {
            "text/plain": [
              "(1, 28, 28)"
            ]
          },
          "metadata": {
            "tags": []
          },
          "execution_count": 9
        }
      ]
    },
    {
      "cell_type": "markdown",
      "metadata": {
        "id": "9eKg1ZQ6Sfh3"
      },
      "source": [
        "# Model"
      ]
    },
    {
      "cell_type": "code",
      "metadata": {
        "id": "GSIwom8blbBV"
      },
      "source": [
        "def softmax(x): \n",
        "  return torch.exp(x) / torch.exp(x).sum(dim=1, keepdim=True)"
      ],
      "execution_count": 10,
      "outputs": []
    },
    {
      "cell_type": "code",
      "metadata": {
        "id": "Pddw_87alaYR"
      },
      "source": [
        "def neg_log_likelihood(x, targ):\n",
        "  return (-x[range(len(targ)), targ])"
      ],
      "execution_count": 11,
      "outputs": []
    },
    {
      "cell_type": "code",
      "metadata": {
        "id": "6Zi_KW43nCqz"
      },
      "source": [
        "def cross_entropy_loss(acts, targ, reduction=\"mean\"):\n",
        "  preds = torch.log(softmax(acts))\n",
        "  return neg_log_likelihood(preds, targ).mean() if reduction=='mean' else neg_log_likelihood(preds, targ)"
      ],
      "execution_count": 12,
      "outputs": []
    },
    {
      "cell_type": "code",
      "metadata": {
        "id": "PG0kwyYKO1WI",
        "outputId": "1b6544eb-4764-4f0b-de26-c20e03616a25",
        "colab": {
          "base_uri": "https://localhost:8080/",
          "height": 265
        }
      },
      "source": [
        "plot_function(torch.log, max=1)"
      ],
      "execution_count": 87,
      "outputs": [
        {
          "output_type": "display_data",
          "data": {
            "image/png": "[encoded data removed]",
            "text/plain": [
              "<Figure size 432x288 with 1 Axes>"
            ]
          },
          "metadata": {
            "tags": [],
            "needs_background": "light"
          }
        }
      ]
    },
    {
      "cell_type": "code",
      "metadata": {
        "id": "N-KtEghNVFl-",
        "outputId": "e1c13e23-7f55-4752-e1b6-db5f3e7867e0",
        "colab": {
          "base_uri": "https://localhost:8080/"
        }
      },
      "source": [
        "torch.log(tensor(0.6931))"
      ],
      "execution_count": 77,
      "outputs": [
        {
          "output_type": "execute_result",
          "data": {
            "text/plain": [
              "tensor(-0.3666)"
            ]
          },
          "metadata": {
            "tags": []
          },
          "execution_count": 77
        }
      ]
    },
    {
      "cell_type": "code",
      "metadata": {
        "id": "G8LWitzDQKTq",
        "outputId": "b690ffea-79e5-4ed2-c8bf-0041df6732c2",
        "colab": {
          "base_uri": "https://localhost:8080/"
        }
      },
      "source": [
        "t = torch.stack([torch.log(tensor(0.8)), torch.log(tensor(0.6)), torch.log(tensor(0.4)), torch.log(tensor(0.2)), torch.log(tensor(0.1)), torch.log(tensor(0.01)),torch.log(tensor(10.05**-45)), torch.log(tensor(10**-46))])\n",
        "distances = t.unsqueeze(1) - t; print(distances)\n",
        "print(distances.diagonal(offset=1))"
      ],
      "execution_count": 90,
      "outputs": [
        {
          "output_type": "stream",
          "text": [
            "tensor([[   0.0000,    0.2877,    0.6931,    1.3863,    2.0794,    4.3820,  103.0558,       inf],\n",
            "        [  -0.2877,    0.0000,    0.4055,    1.0986,    1.7918,    4.0943,  102.7681,       inf],\n",
            "        [  -0.6931,   -0.4055,    0.0000,    0.6931,    1.3863,    3.6889,  102.3626,       inf],\n",
            "        [  -1.3863,   -1.0986,   -0.6931,    0.0000,    0.6931,    2.9957,  101.6695,       inf],\n",
            "        [  -2.0794,   -1.7918,   -1.3863,   -0.6931,    0.0000,    2.3026,  100.9763,       inf],\n",
            "        [  -4.3820,   -4.0943,   -3.6889,   -2.9957,   -2.3026,    0.0000,   98.6738,       inf],\n",
            "        [-103.0558, -102.7681, -102.3626, -101.6695, -100.9763,  -98.6738,    0.0000,       inf],\n",
            "        [     -inf,      -inf,      -inf,      -inf,      -inf,      -inf,      -inf,       nan]])\n",
            "tensor([ 0.2877,  0.4055,  0.6931,  0.6931,  2.3026, 98.6738,     inf])\n"
          ],
          "name": "stdout"
        }
      ]
    },
    {
      "cell_type": "markdown",
      "metadata": {
        "id": "zc4YwJJ4RBBZ"
      },
      "source": [
        "This scales in ways I didn't fully appreciate before. So in order to get the loss, we only look at how far off the prediction is for the target class - we don't actually look at any 'wrong' predictions at all, it's more a 'how not right' were you on the prediction that matters. We index to the prediction that should be 1 (because it is the target label) - ff it *is* 1, then the negative log of that will be 0, so the loss will be 0. \n",
        "\n",
        "The further the prediction for the target class is from 1, the higher the loss, scaling exponentially as it gets closer to 0 (the total opposite of the right answer). So 'fixing' a prediction from 0.6 to 0.8 saves us from 0.28 loss, but going from 0.4 to 0.6 saves us from 0.69 loss. I'm sure there's a good mathsy way of precisely describing this relationship using the gradient of the log function, but the point is simply that the further the prediction on the target class is from one, the higher the loss per unit of false prediction. So completely wrong guesses will cause a much higher loss than right guesses that are not 100% confident. In training this then has the effect of prioritising the fixing grave mistakes over making predictions more confident. This seems super beneficial, because it allows for the sweet spot where the biggest errors are fixed, but the network is not overconfident yet (which would be dumb, because inference will generally require predictions for a different sample of the problem space than was seen during training).\n",
        "\n",
        "This is actually quite interesting. Stopping training before the predictions become too overfitted to the training set leads to the phenomenon that even after loads of training, at inference, the model will not give a probability of 1 to an item that it has already seen during training. Is this desirable? As a human, I don't look at an 8 (especially if it's an archetypical 8, I'm not talking about weird edgecases) and saying \"Yep, this is an 8 with  99.98% probability!\". There's no 0.02% chance that I am completely wrong in my representation of what an 8 is when I make the prediction. I wonder how \n",
        "\n",
        "I also thought a bit about boundary conditions. As the input to the log becomes smaller, it approaches infinity. In PyTorch the jump from -103 to -inf happens when going from `log(10.05**-45)` to `log(10.05**-46)`. I wonder if there are any precautions inbuilt against the possible infinite loss when the prediction is sufficiently far from the target.\n",
        "\n",
        "And again, how lucky that the log exists, because this relationship is not obvious.\n",
        "\n"
      ]
    },
    {
      "cell_type": "markdown",
      "metadata": {
        "id": "gJ15YObtlRNQ"
      },
      "source": [
        "I've also had a look at the top reported result for MNIST:\n",
        "\n",
        "![mnist_efficient_capsules_misclassifications.png](data:image/png;base64,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)"
      ]
    },
    {
      "cell_type": "markdown",
      "metadata": {
        "id": "EIE0JctDlkyy"
      },
      "source": [
        "On its own training set it gets these:\n",
        "\n",
        "------------------------------MNIST Evaluation------------------------------\n",
        "Test acc: 0.9994333333333333\n",
        "Test error [%]: 0.0567%\n",
        "N° misclassified images: 34 out of 60000\n",
        "\n",
        "\n"
      ]
    },
    {
      "cell_type": "markdown",
      "metadata": {
        "id": "9zUiNCqWmReh"
      },
      "source": [
        "![efficient_capsnet_test_ipynb_-_Colaboratory.png](data:image/png;base64,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)"
      ]
    },
    {
      "cell_type": "markdown",
      "metadata": {
        "id": "gWwBS5wJmU7T"
      },
      "source": [
        "This is one of the examples from the training set which it \"gets wrong\" when running the evaluation on the training set. On the one hand - great, this is definitely a nine, and it's mislabelled. But then again, the 3% chance that this isn't a nine somehow bothers me. If the concept of nine means anything, that is it. Am I misunderstanding something here? Is the output from the softmax not really to be taken as a literal expression of probability?\n",
        "I feel like reporting a 0.16% error rate doesn't tell the whole picture here. I'm sure the case with Bayes error (human baseline) has been made, but a smart human makes no mistakes on this dataset, there are just several mistakes in labelling. Wrongly labelled data exaggerates Bayes Error, no?\n",
        "\n",
        "I mean, I'm sure this is just an extremely specialised task, with a small-ish dataset. I wonder if I'm wrong in thinking that having a 3% residual probablity of this being not a nine tells a different story than the 0.16% error rate."
      ]
    },
    {
      "cell_type": "code",
      "metadata": {
        "id": "95kSMTe0qgsi",
        "colab": {
          "base_uri": "https://localhost:8080/"
        },
        "outputId": "b4f81275-a6c4-4d26-f5a1-afb02ddc7401"
      },
      "source": [
        "acts = torch.randn((6,2))*2\n",
        "log_sm = torch.log(softmax(acts))\n",
        "target = tensor([0, 1, 1, 0, 0, 1])\n",
        "\n",
        "print(acts)\n",
        "print(softmax(acts))\n",
        "print(torch.log(softmax(acts)))\n",
        "print(cross_entropy_loss(acts, target, reduction=\"none\"))\n",
        "print(neg_log_likelihood(acts, target).mean().item(), F.nll_loss(acts, target, reduction='mean').item())\n",
        "print(cross_entropy_loss(acts, target).mean().item(), F.cross_entropy(acts, target, reduction='mean').item())\n"
      ],
      "execution_count": 22,
      "outputs": [
        {
          "output_type": "stream",
          "text": [
            "tensor([[ 0.1717,  0.3722],\n",
            "        [ 1.3513,  0.2625],\n",
            "        [ 0.0363, -4.4997],\n",
            "        [ 4.2021,  2.8743],\n",
            "        [-2.5552, -1.2600],\n",
            "        [ 0.5389,  1.4965]])\n",
            "tensor([[0.4501, 0.5499],\n",
            "        [0.7482, 0.2518],\n",
            "        [0.9894, 0.0106],\n",
            "        [0.7905, 0.2095],\n",
            "        [0.2150, 0.7850],\n",
            "        [0.2774, 0.7226]])\n",
            "tensor([[-0.7984, -0.5979],\n",
            "        [-0.2901, -1.3789],\n",
            "        [-0.0107, -4.5466],\n",
            "        [-0.2351, -1.5629],\n",
            "        [-1.5373, -0.2420],\n",
            "        [-1.2824, -0.3248]])\n",
            "tensor([0.7984, 1.3789, 4.5466, 0.2351, 1.5373, 0.3248])\n",
            "0.15368087589740753 0.1536809206008911\n",
            "1.470194935798645 1.4701951742172241\n"
          ],
          "name": "stdout"
        }
      ]
    },
    {
      "cell_type": "markdown",
      "metadata": {
        "id": "h_4Ibw1UwBS7"
      },
      "source": [
        "The torch [docs](https://pytorch.org/docs/stable/nn.functional.html#log-softmax) explain that in practise doing softmax() followed by log() is slower and numerically unstable. Note to myself to checkout F.log_softmax() to see what they are doing differently when I'm further into the course."
      ]
    },
    {
      "cell_type": "code",
      "metadata": {
        "colab": {
          "base_uri": "https://localhost:8080/"
        },
        "id": "-QXlKWgKj8nv",
        "outputId": "3cdd3869-a024-4e55-baba-e8c1e22a6d2d"
      },
      "source": [
        "def batch_accuracy(preds, yb):\n",
        "  preds = preds.argmax(dim=1)\n",
        "  correct = preds == yb\n",
        "  return correct.float().mean()\n",
        "\n",
        "test_xb = tensor([[0.2, 0.2, 0.6], [0.1, 0.8, 0.1], [0.3, 0.3, 0.4]])\n",
        "test_yb = tensor([2, 1, 0])\n",
        "batch_accuracy(test_xb, test_yb)"
      ],
      "execution_count": null,
      "outputs": [
        {
          "output_type": "execute_result",
          "data": {
            "text/plain": [
              "tensor(0.6667)"
            ]
          },
          "metadata": {
            "tags": []
          },
          "execution_count": 156
        }
      ]
    },
    {
      "cell_type": "code",
      "metadata": {
        "id": "Gv7AMiXekGOY"
      },
      "source": [
        "class BasicOptimiser:\n",
        "  def __init__(self, params, lr):\n",
        "    self.params,self.lr = list(params),lr\n",
        "\n",
        "  def step(self):\n",
        "    for p in self.params:\n",
        "      p.data -= p.grad.data * self.lr\n",
        "\n",
        "  def zero_grad(self):\n",
        "    for p in self.params:\n",
        "      p.grad = None"
      ],
      "execution_count": null,
      "outputs": []
    },
    {
      "cell_type": "code",
      "metadata": {
        "id": "Iy2CzjQvwLNS"
      },
      "source": [
        "class BasicSigmoid:\n",
        "  def __call__(self, xb):\n",
        "    return xb.sigmoid()\n",
        "\n",
        "  def parameters(self):\n",
        "    return []"
      ],
      "execution_count": null,
      "outputs": []
    },
    {
      "cell_type": "code",
      "metadata": {
        "id": "-oFPB37skB3R"
      },
      "source": [
        "class BasicLearner:\n",
        "  def __init__(self, dls: DataLoaders, model, opt_func, loss_function, batch_accuracy):\n",
        "    self.dls = dls # type: DataLoaders\n",
        "    self.model = model\n",
        "    self.opt_func = opt_func(model.parameters(), 0.03)\n",
        "    self.loss_function = loss_function\n",
        "    self.batch_accuracy = batch_accuracy\n",
        "\n",
        "  def validate_epoch(self):\n",
        "    accs = [self.batch_accuracy(self.model(xb), yb) for xb, yb in self.dls.valid]\n",
        "    return round(torch.stack(accs).mean().item(), 4)\n",
        "\n",
        "  def fit(self, epochs):\n",
        "    for epoch in range(epochs):\n",
        "      accs = []\n",
        "      start_time = time()\n",
        "      for xb, yb in self.dls.train:\n",
        "        preds = self.model(xb)\n",
        "        loss = self.loss_function(preds, yb)\n",
        "        loss.backward()\n",
        "        self.opt_func.step()\n",
        "        self.opt_func.zero_grad()\n",
        "      print(f\"Epoch {epoch}, Accuracy: {self.validate_epoch()}, took {time() - start_time:.2f}s\")\n",
        "\n",
        "  def pred(self, xb):\n",
        "    return self.model(xb).argmax(dim=1)"
      ],
      "execution_count": null,
      "outputs": []
    },
    {
      "cell_type": "code",
      "metadata": {
        "id": "Bu_jjl5lqfzI",
        "colab": {
          "base_uri": "https://localhost:8080/"
        },
        "outputId": "9ff1a4a8-8e3a-469d-c0ac-b46e9891a908"
      },
      "source": [
        "simple_net = nn.Sequential(\n",
        "    nn.Flatten(),\n",
        "    nn.Linear(28*28,30),\n",
        "    nn.ReLU(),\n",
        "    nn.Linear(30,10)\n",
        ")\n",
        "simple_net.to(torch.cuda.current_device())"
      ],
      "execution_count": null,
      "outputs": [
        {
          "output_type": "execute_result",
          "data": {
            "text/plain": [
              "Sequential(\n",
              "  (0): Flatten(start_dim=1, end_dim=-1)\n",
              "  (1): Linear(in_features=784, out_features=30, bias=True)\n",
              "  (2): ReLU()\n",
              "  (3): Linear(in_features=30, out_features=10, bias=True)\n",
              ")"
            ]
          },
          "metadata": {
            "tags": []
          },
          "execution_count": 160
        }
      ]
    },
    {
      "cell_type": "markdown",
      "metadata": {
        "id": "lwfg0tEr5o56"
      },
      "source": [
        "moving the model to GPU is usually done by fastai "
      ]
    },
    {
      "cell_type": "code",
      "metadata": {
        "colab": {
          "base_uri": "https://localhost:8080/"
        },
        "id": "FhcXL7q7sMiO",
        "outputId": "5e6fda45-421b-4e90-c4cf-57fa28e335e9"
      },
      "source": [
        "learner = BasicLearner(dls, simple_net, BasicOptimiser, cross_entropy_loss, batch_accuracy)\n",
        "learner.fit(2)"
      ],
      "execution_count": null,
      "outputs": [
        {
          "output_type": "stream",
          "text": [
            "Epoch 0, Accuracy: 0.9068, took 74.17s\n",
            "Epoch 1, Accuracy: 0.9162, took 72.13s\n"
          ],
          "name": "stdout"
        }
      ]
    },
    {
      "cell_type": "code",
      "metadata": {
        "colab": {
          "base_uri": "https://localhost:8080/"
        },
        "id": "wOcz0gk4wnki",
        "outputId": "76bf2d7c-3bd7-453e-a4f0-6966b2c79fca"
      },
      "source": [
        "valid_im, valid_label = dls.valid.one_batch()[0][4], dls.valid.one_batch()[1][4]\n",
        "prediction = learner.pred(valid_im)\n",
        "dls.vocab[prediction], dls.vocab[valid_label]"
      ],
      "execution_count": null,
      "outputs": [
        {
          "output_type": "execute_result",
          "data": {
            "text/plain": [
              "((#1) ['7'], '7')"
            ]
          },
          "metadata": {
            "tags": []
          },
          "execution_count": 37
        }
      ]
    },
    {
      "cell_type": "markdown",
      "metadata": {
        "id": "PHS0LUnYVccd"
      },
      "source": [
        "# Experiments"
      ]
    },
    {
      "cell_type": "markdown",
      "metadata": {
        "id": "g0Stj2htVy4L"
      },
      "source": [
        "What about using the median loss, rather than the mean?"
      ]
    },
    {
      "cell_type": "code",
      "metadata": {
        "id": "Dkt1CQmPw9fr"
      },
      "source": [
        "def mnist_loss_median(preds, target):\n",
        "  return torch.where(target==1, 1-preds, preds).median()"
      ],
      "execution_count": null,
      "outputs": []
    },
    {
      "cell_type": "code",
      "metadata": {
        "id": "sQ2H2XLXViZx",
        "colab": {
          "base_uri": "https://localhost:8080/"
        },
        "outputId": "26be82f8-aaa1-49ad-e0b7-9da25cb31cc9"
      },
      "source": [
        "model = SimpleNet(28*28, 1)\n",
        "learner_exp1 = BasicLearner(dls, model, BasicOptimiser(model.parameters(), 0.13), mnist_loss_median, batch_accuracy)\n",
        "learner_exp1.fit(10)"
      ],
      "execution_count": null,
      "outputs": [
        {
          "output_type": "stream",
          "text": [
            "Epoch 0, Accuracy: 0.5068\n",
            "Epoch 1, Accuracy: 0.5068\n",
            "Epoch 2, Accuracy: 0.5068\n",
            "Epoch 3, Accuracy: 0.5068\n",
            "Epoch 4, Accuracy: 0.5166\n",
            "Epoch 5, Accuracy: 0.5552\n",
            "Epoch 6, Accuracy: 0.6074\n",
            "Epoch 7, Accuracy: 0.6519\n",
            "Epoch 8, Accuracy: 0.7769\n",
            "Epoch 9, Accuracy: 0.8369\n"
          ],
          "name": "stdout"
        }
      ]
    },
    {
      "cell_type": "markdown",
      "metadata": {
        "id": "Ia9qnz4kVone"
      },
      "source": [
        "Answer: It just trains slower (but still converges at some point in this case)"
      ]
    },
    {
      "cell_type": "code",
      "metadata": {
        "id": "14XYlefzV9B4"
      },
      "source": [
        ""
      ],
      "execution_count": null,
      "outputs": []
    },
    {
      "cell_type": "markdown",
      "metadata": {
        "id": "GpduHr0VWgAh"
      },
      "source": [
        "## Bonus: Weights & Biases"
      ]
    },
    {
      "cell_type": "code",
      "metadata": {
        "id": "Sk758cbBWjwX"
      },
      "source": [
        ""
      ],
      "execution_count": null,
      "outputs": []
    }
  ]
}