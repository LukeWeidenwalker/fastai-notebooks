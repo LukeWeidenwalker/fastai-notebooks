{
  "nbformat": 4,
  "nbformat_minor": 0,
  "metadata": {
    "kernelspec": {
      "display_name": "Python [conda env:ai-notebooks] *",
      "language": "python",
      "name": "conda-env-ai-notebooks-py"
    },
    "language_info": {
      "codemirror_mode": {
        "name": "ipython",
        "version": 3
      },
      "file_extension": ".py",
      "mimetype": "text/x-python",
      "name": "python",
      "nbconvert_exporter": "python",
      "pygments_lexer": "ipython3",
      "version": "3.9.1"
    },
    "colab": {
      "name": "fastai_mnist.ipynb",
      "provenance": [],
      "include_colab_link": true
    },
    "accelerator": "GPU"
  },
  "cells": [
    {
      "cell_type": "markdown",
      "metadata": {
        "id": "view-in-github",
        "colab_type": "text"
      },
      "source": [
        "<a href=\"https://colab.research.google.com/github/LukeWeidenwalker/ai-notebooks/blob/master/fastai_mnist.ipynb\" target=\"_parent\"><img src=\"https://colab.research.google.com/assets/colab-badge.svg\" alt=\"Open In Colab\"/></a>"
      ]
    },
    {
      "cell_type": "code",
      "metadata": {
        "id": "t_kkM7VebmnD",
        "colab": {
          "base_uri": "https://localhost:8080/"
        },
        "outputId": "c2f0d1e7-dcfd-4c94-db8b-17e03f5e45d8"
      },
      "source": [
        "!pip install -Uqq fastbook\n",
        "import fastbook\n",
        "fastbook.setup_book()"
      ],
      "execution_count": 1,
      "outputs": [
        {
          "output_type": "stream",
          "text": [
            "\u001b[?25l\r\u001b[K     |▌                               | 10kB 23.2MB/s eta 0:00:01\r\u001b[K     |█                               | 20kB 29.7MB/s eta 0:00:01\r\u001b[K     |█▍                              | 30kB 23.8MB/s eta 0:00:01\r\u001b[K     |█▉                              | 40kB 22.0MB/s eta 0:00:01\r\u001b[K     |██▎                             | 51kB 24.5MB/s eta 0:00:01\r\u001b[K     |██▊                             | 61kB 17.3MB/s eta 0:00:01\r\u001b[K     |███▏                            | 71kB 17.7MB/s eta 0:00:01\r\u001b[K     |███▋                            | 81kB 18.2MB/s eta 0:00:01\r\u001b[K     |████                            | 92kB 16.0MB/s eta 0:00:01\r\u001b[K     |████▌                           | 102kB 17.2MB/s eta 0:00:01\r\u001b[K     |█████                           | 112kB 17.2MB/s eta 0:00:01\r\u001b[K     |█████▌                          | 122kB 17.2MB/s eta 0:00:01\r\u001b[K     |██████                          | 133kB 17.2MB/s eta 0:00:01\r\u001b[K     |██████▍                         | 143kB 17.2MB/s eta 0:00:01\r\u001b[K     |██████▉                         | 153kB 17.2MB/s eta 0:00:01\r\u001b[K     |███████▎                        | 163kB 17.2MB/s eta 0:00:01\r\u001b[K     |███████▊                        | 174kB 17.2MB/s eta 0:00:01\r\u001b[K     |████████▏                       | 184kB 17.2MB/s eta 0:00:01\r\u001b[K     |████████▋                       | 194kB 17.2MB/s eta 0:00:01\r\u001b[K     |█████████                       | 204kB 17.2MB/s eta 0:00:01\r\u001b[K     |█████████▋                      | 215kB 17.2MB/s eta 0:00:01\r\u001b[K     |██████████                      | 225kB 17.2MB/s eta 0:00:01\r\u001b[K     |██████████▌                     | 235kB 17.2MB/s eta 0:00:01\r\u001b[K     |███████████                     | 245kB 17.2MB/s eta 0:00:01\r\u001b[K     |███████████▍                    | 256kB 17.2MB/s eta 0:00:01\r\u001b[K     |███████████▉                    | 266kB 17.2MB/s eta 0:00:01\r\u001b[K     |████████████▎                   | 276kB 17.2MB/s eta 0:00:01\r\u001b[K     |████████████▊                   | 286kB 17.2MB/s eta 0:00:01\r\u001b[K     |█████████████▏                  | 296kB 17.2MB/s eta 0:00:01\r\u001b[K     |█████████████▋                  | 307kB 17.2MB/s eta 0:00:01\r\u001b[K     |██████████████                  | 317kB 17.2MB/s eta 0:00:01\r\u001b[K     |██████████████▋                 | 327kB 17.2MB/s eta 0:00:01\r\u001b[K     |███████████████                 | 337kB 17.2MB/s eta 0:00:01\r\u001b[K     |███████████████▌                | 348kB 17.2MB/s eta 0:00:01\r\u001b[K     |████████████████                | 358kB 17.2MB/s eta 0:00:01\r\u001b[K     |████████████████▍               | 368kB 17.2MB/s eta 0:00:01\r\u001b[K     |████████████████▉               | 378kB 17.2MB/s eta 0:00:01\r\u001b[K     |█████████████████▎              | 389kB 17.2MB/s eta 0:00:01\r\u001b[K     |█████████████████▊              | 399kB 17.2MB/s eta 0:00:01\r\u001b[K     |██████████████████▏             | 409kB 17.2MB/s eta 0:00:01\r\u001b[K     |██████████████████▋             | 419kB 17.2MB/s eta 0:00:01\r\u001b[K     |███████████████████▏            | 430kB 17.2MB/s eta 0:00:01\r\u001b[K     |███████████████████▋            | 440kB 17.2MB/s eta 0:00:01\r\u001b[K     |████████████████████            | 450kB 17.2MB/s eta 0:00:01\r\u001b[K     |████████████████████▌           | 460kB 17.2MB/s eta 0:00:01\r\u001b[K     |█████████████████████           | 471kB 17.2MB/s eta 0:00:01\r\u001b[K     |█████████████████████▍          | 481kB 17.2MB/s eta 0:00:01\r\u001b[K     |█████████████████████▉          | 491kB 17.2MB/s eta 0:00:01\r\u001b[K     |██████████████████████▎         | 501kB 17.2MB/s eta 0:00:01\r\u001b[K     |██████████████████████▊         | 512kB 17.2MB/s eta 0:00:01\r\u001b[K     |███████████████████████▏        | 522kB 17.2MB/s eta 0:00:01\r\u001b[K     |███████████████████████▋        | 532kB 17.2MB/s eta 0:00:01\r\u001b[K     |████████████████████████▏       | 542kB 17.2MB/s eta 0:00:01\r\u001b[K     |████████████████████████▋       | 552kB 17.2MB/s eta 0:00:01\r\u001b[K     |█████████████████████████       | 563kB 17.2MB/s eta 0:00:01\r\u001b[K     |█████████████████████████▌      | 573kB 17.2MB/s eta 0:00:01\r\u001b[K     |██████████████████████████      | 583kB 17.2MB/s eta 0:00:01\r\u001b[K     |██████████████████████████▍     | 593kB 17.2MB/s eta 0:00:01\r\u001b[K     |██████████████████████████▉     | 604kB 17.2MB/s eta 0:00:01\r\u001b[K     |███████████████████████████▎    | 614kB 17.2MB/s eta 0:00:01\r\u001b[K     |███████████████████████████▊    | 624kB 17.2MB/s eta 0:00:01\r\u001b[K     |████████████████████████████▏   | 634kB 17.2MB/s eta 0:00:01\r\u001b[K     |████████████████████████████▊   | 645kB 17.2MB/s eta 0:00:01\r\u001b[K     |█████████████████████████████▏  | 655kB 17.2MB/s eta 0:00:01\r\u001b[K     |█████████████████████████████▋  | 665kB 17.2MB/s eta 0:00:01\r\u001b[K     |██████████████████████████████  | 675kB 17.2MB/s eta 0:00:01\r\u001b[K     |██████████████████████████████▌ | 686kB 17.2MB/s eta 0:00:01\r\u001b[K     |███████████████████████████████ | 696kB 17.2MB/s eta 0:00:01\r\u001b[K     |███████████████████████████████▍| 706kB 17.2MB/s eta 0:00:01\r\u001b[K     |███████████████████████████████▉| 716kB 17.2MB/s eta 0:00:01\r\u001b[K     |████████████████████████████████| 727kB 17.2MB/s \n",
            "\u001b[K     |████████████████████████████████| 194kB 50.3MB/s \n",
            "\u001b[K     |████████████████████████████████| 1.2MB 54.8MB/s \n",
            "\u001b[K     |████████████████████████████████| 51kB 8.3MB/s \n",
            "\u001b[K     |████████████████████████████████| 61kB 10.6MB/s \n",
            "\u001b[?25hMounted at /content/gdrive\n"
          ],
          "name": "stdout"
        }
      ]
    },
    {
      "cell_type": "code",
      "metadata": {
        "id": "CYXRq6ObcT5o"
      },
      "source": [
        "from fastai.vision.all import *\n",
        "from fastbook import *"
      ],
      "execution_count": 2,
      "outputs": []
    },
    {
      "cell_type": "code",
      "metadata": {
        "id": "kZ6FPr1Gcmyx",
        "colab": {
          "base_uri": "https://localhost:8080/",
          "height": 17
        },
        "outputId": "a82a8432-06df-418a-ad3b-bac6bcc63616"
      },
      "source": [
        "path = untar_data(URLs.MNIST_SAMPLE)\n",
        "Path.BASE_PATH = path"
      ],
      "execution_count": 3,
      "outputs": [
        {
          "output_type": "display_data",
          "data": {
            "text/html": [
              ""
            ],
            "text/plain": [
              "<IPython.core.display.HTML object>"
            ]
          },
          "metadata": {
            "tags": []
          }
        }
      ]
    },
    {
      "cell_type": "code",
      "metadata": {
        "id": "5nh0MRkycvGN",
        "colab": {
          "base_uri": "https://localhost:8080/"
        },
        "outputId": "2e052737-9082-4df5-e854-8b116319577b"
      },
      "source": [
        "(path/\"train\").ls()\n",
        "# what I need to do:\n",
        "# I need to load in the dataset as tensors, and create a corresponding y tensor with the right labels"
      ],
      "execution_count": 4,
      "outputs": [
        {
          "output_type": "execute_result",
          "data": {
            "text/plain": [
              "(#2) [Path('train/7'),Path('train/3')]"
            ]
          },
          "metadata": {
            "tags": []
          },
          "execution_count": 4
        }
      ]
    },
    {
      "cell_type": "code",
      "metadata": {
        "id": "7ncTv_LLc4NJ",
        "colab": {
          "base_uri": "https://localhost:8080/"
        },
        "outputId": "5fc30395-baae-4db4-b708-13360d590c2f"
      },
      "source": [
        "threes = torch.stack([tensor(Image.open(im)) for im in (path/\"train\"/'3').ls().sorted()])\n",
        "sevens = torch.stack([tensor(Image.open(im)) for im in (path/\"train\"/'7').ls().sorted()])\n",
        "threes.shape, sevens.shape"
      ],
      "execution_count": 5,
      "outputs": [
        {
          "output_type": "execute_result",
          "data": {
            "text/plain": [
              "(torch.Size([6131, 28, 28]), torch.Size([6265, 28, 28]))"
            ]
          },
          "metadata": {
            "tags": []
          },
          "execution_count": 5
        }
      ]
    },
    {
      "cell_type": "code",
      "metadata": {
        "id": "i3NFc5NpfeiS",
        "colab": {
          "base_uri": "https://localhost:8080/"
        },
        "outputId": "512c9ac0-525c-42d7-d6c1-de38a9fa02cf"
      },
      "source": [
        "x_train = torch.cat((threes, sevens)).view(-1, 28*28) / 255.0; x_train.shape\n",
        "x_train.shape, x_train.type()"
      ],
      "execution_count": 6,
      "outputs": [
        {
          "output_type": "execute_result",
          "data": {
            "text/plain": [
              "(torch.Size([12396, 784]), 'torch.FloatTensor')"
            ]
          },
          "metadata": {
            "tags": []
          },
          "execution_count": 6
        }
      ]
    },
    {
      "cell_type": "code",
      "metadata": {
        "id": "eGyBk27JnWH6",
        "colab": {
          "base_uri": "https://localhost:8080/"
        },
        "outputId": "78bde3ba-77fc-4a3e-84ac-32dd01b4d3d4"
      },
      "source": [
        "y_train = tensor([0]*len(threes) + [1]*len(sevens)).unsqueeze(1); y_train.shape, y_train.type()"
      ],
      "execution_count": 7,
      "outputs": [
        {
          "output_type": "execute_result",
          "data": {
            "text/plain": [
              "(torch.Size([12396, 1]), 'torch.LongTensor')"
            ]
          },
          "metadata": {
            "tags": []
          },
          "execution_count": 7
        }
      ]
    },
    {
      "cell_type": "code",
      "metadata": {
        "id": "CwAZceCKoUJ0"
      },
      "source": [
        "train_dset = list(zip(x_train, y_train))"
      ],
      "execution_count": 8,
      "outputs": []
    },
    {
      "cell_type": "code",
      "metadata": {
        "id": "H-t9iixbpr0w"
      },
      "source": [
        "# Now do the same for the validation set\n",
        "threes_valid = torch.stack([tensor(Image.open(im)) for im in (path/\"valid\"/'3').ls().sorted()])\n",
        "sevens_valid = torch.stack([tensor(Image.open(im)) for im in (path/\"valid\"/'7').ls().sorted()])\n",
        "\n",
        "x_valid = torch.cat((threes_valid, sevens_valid)).view(-1, 28*28) / 255.0; x_train.shape\n",
        "y_valid = tensor([0]*len(threes_valid) + [1]*len(sevens_valid)).unsqueeze(1); y_valid.shape, y_valid.type()\n",
        "\n",
        "valid_dset = list(zip(x_valid, y_valid))"
      ],
      "execution_count": 9,
      "outputs": []
    },
    {
      "cell_type": "code",
      "metadata": {
        "id": "9F9yWtbCqi-1"
      },
      "source": [
        "train_dl = DataLoader(train_dset, shuffle=True, bs=64)\n",
        "valid_dl = DataLoader(valid_dset, shuffle=False, bs=64)\n",
        "dls = DataLoaders(train_dl, valid_dl)"
      ],
      "execution_count": 10,
      "outputs": []
    },
    {
      "cell_type": "code",
      "metadata": {
        "id": "7SrLbPeQrD4b",
        "colab": {
          "base_uri": "https://localhost:8080/"
        },
        "outputId": "72490640-94f8-4f8d-fc31-b5673818ef05"
      },
      "source": [
        "dls.train.one_batch()[0].shape"
      ],
      "execution_count": 11,
      "outputs": [
        {
          "output_type": "execute_result",
          "data": {
            "text/plain": [
              "torch.Size([64, 784])"
            ]
          },
          "metadata": {
            "tags": []
          },
          "execution_count": 11
        }
      ]
    },
    {
      "cell_type": "code",
      "metadata": {
        "id": "WljdI5wBrfK4",
        "outputId": "0cd9c884-5c68-4a28-df22-b88b89d68b39",
        "colab": {
          "base_uri": "https://localhost:8080/"
        }
      },
      "source": [
        "def mnist_loss(preds, target):\n",
        "  return ((target - preds)**2).mean().sqrt()\n",
        "\n",
        "preds = tensor([0.2, 0.6, 0.3])\n",
        "target = tensor([0, 1, 1])\n",
        "mnist_loss(preds, target)"
      ],
      "execution_count": 16,
      "outputs": [
        {
          "output_type": "execute_result",
          "data": {
            "text/plain": [
              "tensor(0.6557)"
            ]
          },
          "metadata": {
            "tags": []
          },
          "execution_count": 16
        }
      ]
    },
    {
      "cell_type": "code",
      "metadata": {
        "id": "-QXlKWgKj8nv",
        "outputId": "43f952e8-a876-4fd1-b33c-e09082f98432",
        "colab": {
          "base_uri": "https://localhost:8080/"
        }
      },
      "source": [
        "def batch_accuracy(preds, yb):\n",
        "  preds = preds.sigmoid()\n",
        "  correct = (preds > 0.5) == yb\n",
        "  return correct.float().mean()\n",
        "\n",
        "xb = tensor([0.2, 0.2, 0.6])\n",
        "yb = tensor([0, 1, 1])\n",
        "batch_accuracy(xb, yb)"
      ],
      "execution_count": 32,
      "outputs": [
        {
          "output_type": "execute_result",
          "data": {
            "text/plain": [
              "tensor(0.6667)"
            ]
          },
          "metadata": {
            "tags": []
          },
          "execution_count": 32
        }
      ]
    },
    {
      "cell_type": "markdown",
      "metadata": {
        "id": "CiJ0P9cpmXmG"
      },
      "source": [
        " tensor([0.5498, 0.6457, 0.6457]))\n"
      ]
    },
    {
      "cell_type": "code",
      "metadata": {
        "id": "Gv7AMiXekGOY"
      },
      "source": [
        "class BasicOptimiser:\n",
        "  def __init__(self, params, lr):\n",
        "    self.params,self.lr = list(params),lr\n",
        "\n",
        "  def step(self):\n",
        "    for p in self.params:\n",
        "      p.data -= p.grad.data * self.lr\n",
        "\n",
        "  def zero_grad(self):\n",
        "    for p in self.params:\n",
        "      p.grad = None"
      ],
      "execution_count": 206,
      "outputs": []
    },
    {
      "cell_type": "code",
      "metadata": {
        "id": "9oCEr4eJkKAl"
      },
      "source": [
        "class SimpleNet:\n",
        "  def __init__(self, input_size, output_size):\n",
        "    self.w = self.init_parameters((input_size, output_size))\n",
        "    self.b = self.init_parameters(1)\n",
        "\n",
        "  def init_parameters(self, shape):\n",
        "    return torch.rand(shape).requires_grad_()\n",
        "\n",
        "  def __call__(self, xb):\n",
        "    return xb@self.w + self.b\n",
        "\n",
        "  def parameters(self):\n",
        "    return self.w, self.b"
      ],
      "execution_count": 207,
      "outputs": []
    },
    {
      "cell_type": "code",
      "metadata": {
        "id": "Iy2CzjQvwLNS"
      },
      "source": [
        "class BasicSigmoid:\n",
        "  def __call__(self, xb):\n",
        "    return xb.sigmoid()\n",
        "\n",
        "  def parameters(self):\n",
        "    return []"
      ],
      "execution_count": 208,
      "outputs": []
    },
    {
      "cell_type": "code",
      "metadata": {
        "id": "u9n2r7s2pFAN"
      },
      "source": [
        "class BasicSequential:\n",
        "  def __init__(self, layers):\n",
        "    self.layers = layers\n",
        "\n",
        "  def __call__(self, xb):\n",
        "    for layer in self.layers:\n",
        "      xb = layer(xb)\n",
        "    return xb\n",
        "\n",
        "  def parameters(self):\n",
        "    return [p for layer in self.layers for p in layer.parameters()]\n",
        "    "
      ],
      "execution_count": 209,
      "outputs": []
    },
    {
      "cell_type": "code",
      "metadata": {
        "id": "-oFPB37skB3R"
      },
      "source": [
        "class BasicLearner:\n",
        "  def __init__(self, dls, model, opt_func, loss_function, batch_accuracy):\n",
        "    self.dls = dls\n",
        "    self.model = model\n",
        "    self.opt_func = opt_func\n",
        "    self.loss_function = loss_function\n",
        "    self.batch_accuracy = batch_accuracy\n",
        "\n",
        "  def validate_epoch(self):\n",
        "    accs = [self.batch_accuracy(self.model(xb), yb) for xb, yb in self.dls.valid]\n",
        "    return round(torch.stack(accs).mean().item(), 4)\n",
        "\n",
        "  def fit(self, epochs):\n",
        "    for epoch in range(epochs):\n",
        "      accs = []\n",
        "      for xb, yb in self.dls.train:\n",
        "        preds = self.model(xb)\n",
        "        loss = self.loss_function(preds, yb)\n",
        "        loss.backward()\n",
        "        self.opt_func.step()\n",
        "        self.opt_func.zero_grad()\n",
        "      # print(model.parameters()[0])\n",
        "      # print(model.parameters()[0].grad)\n",
        "      print(f\"Epoch {epoch}, Accuracy: {self.validate_epoch()}\")\n",
        "      "
      ],
      "execution_count": 210,
      "outputs": []
    },
    {
      "cell_type": "code",
      "metadata": {
        "id": "Bu_jjl5lqfzI"
      },
      "source": [
        "model = SimpleNet(28*28, 1)"
      ],
      "execution_count": 211,
      "outputs": []
    },
    {
      "cell_type": "code",
      "metadata": {
        "id": "FhcXL7q7sMiO",
        "outputId": "69606ca2-3f4d-47f7-d6c0-d49370f327f9",
        "colab": {
          "base_uri": "https://localhost:8080/",
          "height": 1000
        }
      },
      "source": [
        "learner = BasicLearner(dls, model, BasicOptimiser(model.parameters(), 0.01), mnist_loss, batch_accuracy)\n",
        "learner.fit(300)"
      ],
      "execution_count": 212,
      "outputs": [
        {
          "output_type": "stream",
          "text": [
            "Epoch 0, Accuracy: 0.5256\n",
            "Epoch 1, Accuracy: 0.624\n",
            "Epoch 2, Accuracy: 0.6358\n",
            "Epoch 3, Accuracy: 0.658\n",
            "Epoch 4, Accuracy: 0.6522\n",
            "Epoch 5, Accuracy: 0.671\n",
            "Epoch 6, Accuracy: 0.6751\n",
            "Epoch 7, Accuracy: 0.6919\n",
            "Epoch 8, Accuracy: 0.7192\n",
            "Epoch 9, Accuracy: 0.6962\n",
            "Epoch 10, Accuracy: 0.7188\n",
            "Epoch 11, Accuracy: 0.7402\n",
            "Epoch 12, Accuracy: 0.7049\n",
            "Epoch 13, Accuracy: 0.7313\n",
            "Epoch 14, Accuracy: 0.7347\n",
            "Epoch 15, Accuracy: 0.7348\n",
            "Epoch 16, Accuracy: 0.7279\n",
            "Epoch 17, Accuracy: 0.766\n",
            "Epoch 18, Accuracy: 0.6855\n",
            "Epoch 19, Accuracy: 0.7295\n",
            "Epoch 20, Accuracy: 0.752\n",
            "Epoch 21, Accuracy: 0.7178\n",
            "Epoch 22, Accuracy: 0.6934\n",
            "Epoch 23, Accuracy: 0.7134\n",
            "Epoch 24, Accuracy: 0.7275\n",
            "Epoch 25, Accuracy: 0.6973\n",
            "Epoch 26, Accuracy: 0.7095\n",
            "Epoch 27, Accuracy: 0.7549\n",
            "Epoch 28, Accuracy: 0.814\n",
            "Epoch 29, Accuracy: 0.6841\n",
            "Epoch 30, Accuracy: 0.7642\n",
            "Epoch 31, Accuracy: 0.7183\n",
            "Epoch 32, Accuracy: 0.7305\n",
            "Epoch 33, Accuracy: 0.6855\n",
            "Epoch 34, Accuracy: 0.6128\n",
            "Epoch 35, Accuracy: 0.6602\n",
            "Epoch 36, Accuracy: 0.7197\n",
            "Epoch 37, Accuracy: 0.7842\n",
            "Epoch 38, Accuracy: 0.7725\n",
            "Epoch 39, Accuracy: 0.6382\n",
            "Epoch 40, Accuracy: 0.7178\n",
            "Epoch 41, Accuracy: 0.6431\n",
            "Epoch 42, Accuracy: 0.729\n",
            "Epoch 43, Accuracy: 0.6152\n",
            "Epoch 44, Accuracy: 0.7988\n",
            "Epoch 45, Accuracy: 0.6328\n",
            "Epoch 46, Accuracy: 0.6797\n",
            "Epoch 47, Accuracy: 0.6172\n",
            "Epoch 48, Accuracy: 0.644\n",
            "Epoch 49, Accuracy: 0.7417\n",
            "Epoch 50, Accuracy: 0.667\n",
            "Epoch 51, Accuracy: 0.8452\n",
            "Epoch 52, Accuracy: 0.7285\n",
            "Epoch 53, Accuracy: 0.5728\n",
            "Epoch 54, Accuracy: 0.8188\n",
            "Epoch 55, Accuracy: 0.6855\n",
            "Epoch 56, Accuracy: 0.7256\n",
            "Epoch 57, Accuracy: 0.7388\n",
            "Epoch 58, Accuracy: 0.7896\n",
            "Epoch 59, Accuracy: 0.7539\n",
            "Epoch 60, Accuracy: 0.7427\n",
            "Epoch 61, Accuracy: 0.6548\n",
            "Epoch 62, Accuracy: 0.8696\n",
            "Epoch 63, Accuracy: 0.5898\n",
            "Epoch 64, Accuracy: 0.7368\n",
            "Epoch 65, Accuracy: 0.6743\n",
            "Epoch 66, Accuracy: 0.7256\n",
            "Epoch 67, Accuracy: 0.8159\n",
            "Epoch 68, Accuracy: 0.7471\n",
            "Epoch 69, Accuracy: 0.5645\n",
            "Epoch 70, Accuracy: 0.5474\n",
            "Epoch 71, Accuracy: 0.686\n",
            "Epoch 72, Accuracy: 0.792\n",
            "Epoch 73, Accuracy: 0.8491\n",
            "Epoch 74, Accuracy: 0.7412\n",
            "Epoch 75, Accuracy: 0.8091\n",
            "Epoch 76, Accuracy: 0.7939\n",
            "Epoch 77, Accuracy: 0.6016\n",
            "Epoch 78, Accuracy: 0.6719\n",
            "Epoch 79, Accuracy: 0.8149\n",
            "Epoch 80, Accuracy: 0.7739\n",
            "Epoch 81, Accuracy: 0.7847\n",
            "Epoch 82, Accuracy: 0.7583\n",
            "Epoch 83, Accuracy: 0.6016\n",
            "Epoch 84, Accuracy: 0.7671\n",
            "Epoch 85, Accuracy: 0.8496\n",
            "Epoch 86, Accuracy: 0.7666\n",
            "Epoch 87, Accuracy: 0.7451\n",
            "Epoch 88, Accuracy: 0.7324\n",
            "Epoch 89, Accuracy: 0.6455\n",
            "Epoch 90, Accuracy: 0.7896\n"
          ],
          "name": "stdout"
        },
        {
          "output_type": "error",
          "ename": "KeyboardInterrupt",
          "evalue": "ignored",
          "traceback": [
            "\u001b[0;31m---------------------------------------------------------------------------\u001b[0m",
            "\u001b[0;31mKeyboardInterrupt\u001b[0m                         Traceback (most recent call last)",
            "\u001b[0;32m<ipython-input-212-5b63c3dc7894>\u001b[0m in \u001b[0;36m<module>\u001b[0;34m()\u001b[0m\n\u001b[1;32m      1\u001b[0m \u001b[0mlearner\u001b[0m \u001b[0;34m=\u001b[0m \u001b[0mBasicLearner\u001b[0m\u001b[0;34m(\u001b[0m\u001b[0mdls\u001b[0m\u001b[0;34m,\u001b[0m \u001b[0mmodel\u001b[0m\u001b[0;34m,\u001b[0m \u001b[0mBasicOptimiser\u001b[0m\u001b[0;34m(\u001b[0m\u001b[0mmodel\u001b[0m\u001b[0;34m.\u001b[0m\u001b[0mparameters\u001b[0m\u001b[0;34m(\u001b[0m\u001b[0;34m)\u001b[0m\u001b[0;34m,\u001b[0m \u001b[0;36m0.01\u001b[0m\u001b[0;34m)\u001b[0m\u001b[0;34m,\u001b[0m \u001b[0mmnist_loss\u001b[0m\u001b[0;34m,\u001b[0m \u001b[0mbatch_accuracy\u001b[0m\u001b[0;34m)\u001b[0m\u001b[0;34m\u001b[0m\u001b[0;34m\u001b[0m\u001b[0m\n\u001b[0;32m----> 2\u001b[0;31m \u001b[0mlearner\u001b[0m\u001b[0;34m.\u001b[0m\u001b[0mfit\u001b[0m\u001b[0;34m(\u001b[0m\u001b[0;36m300\u001b[0m\u001b[0;34m)\u001b[0m\u001b[0;34m\u001b[0m\u001b[0;34m\u001b[0m\u001b[0m\n\u001b[0m",
            "\u001b[0;32m<ipython-input-210-5b27c2ae755b>\u001b[0m in \u001b[0;36mfit\u001b[0;34m(self, epochs)\u001b[0m\n\u001b[1;32m     14\u001b[0m     \u001b[0;32mfor\u001b[0m \u001b[0mepoch\u001b[0m \u001b[0;32min\u001b[0m \u001b[0mrange\u001b[0m\u001b[0;34m(\u001b[0m\u001b[0mepochs\u001b[0m\u001b[0;34m)\u001b[0m\u001b[0;34m:\u001b[0m\u001b[0;34m\u001b[0m\u001b[0;34m\u001b[0m\u001b[0m\n\u001b[1;32m     15\u001b[0m       \u001b[0maccs\u001b[0m \u001b[0;34m=\u001b[0m \u001b[0;34m[\u001b[0m\u001b[0;34m]\u001b[0m\u001b[0;34m\u001b[0m\u001b[0;34m\u001b[0m\u001b[0m\n\u001b[0;32m---> 16\u001b[0;31m       \u001b[0;32mfor\u001b[0m \u001b[0mxb\u001b[0m\u001b[0;34m,\u001b[0m \u001b[0myb\u001b[0m \u001b[0;32min\u001b[0m \u001b[0mself\u001b[0m\u001b[0;34m.\u001b[0m\u001b[0mdls\u001b[0m\u001b[0;34m.\u001b[0m\u001b[0mtrain\u001b[0m\u001b[0;34m:\u001b[0m\u001b[0;34m\u001b[0m\u001b[0;34m\u001b[0m\u001b[0m\n\u001b[0m\u001b[1;32m     17\u001b[0m         \u001b[0mpreds\u001b[0m \u001b[0;34m=\u001b[0m \u001b[0mself\u001b[0m\u001b[0;34m.\u001b[0m\u001b[0mmodel\u001b[0m\u001b[0;34m(\u001b[0m\u001b[0mxb\u001b[0m\u001b[0;34m)\u001b[0m\u001b[0;34m\u001b[0m\u001b[0;34m\u001b[0m\u001b[0m\n\u001b[1;32m     18\u001b[0m         \u001b[0mloss\u001b[0m \u001b[0;34m=\u001b[0m \u001b[0mself\u001b[0m\u001b[0;34m.\u001b[0m\u001b[0mloss_function\u001b[0m\u001b[0;34m(\u001b[0m\u001b[0mpreds\u001b[0m\u001b[0;34m,\u001b[0m \u001b[0myb\u001b[0m\u001b[0;34m)\u001b[0m\u001b[0;34m\u001b[0m\u001b[0;34m\u001b[0m\u001b[0m\n",
            "\u001b[0;32m/usr/local/lib/python3.6/dist-packages/fastai/data/load.py\u001b[0m in \u001b[0;36m__iter__\u001b[0;34m(self)\u001b[0m\n\u001b[1;32m     99\u001b[0m         \u001b[0mself\u001b[0m\u001b[0;34m.\u001b[0m\u001b[0mbefore_iter\u001b[0m\u001b[0;34m(\u001b[0m\u001b[0;34m)\u001b[0m\u001b[0;34m\u001b[0m\u001b[0;34m\u001b[0m\u001b[0m\n\u001b[1;32m    100\u001b[0m         \u001b[0mself\u001b[0m\u001b[0;34m.\u001b[0m\u001b[0m__idxs\u001b[0m\u001b[0;34m=\u001b[0m\u001b[0mself\u001b[0m\u001b[0;34m.\u001b[0m\u001b[0mget_idxs\u001b[0m\u001b[0;34m(\u001b[0m\u001b[0;34m)\u001b[0m \u001b[0;31m# called in context of main process (not workers/subprocesses)\u001b[0m\u001b[0;34m\u001b[0m\u001b[0;34m\u001b[0m\u001b[0m\n\u001b[0;32m--> 101\u001b[0;31m         \u001b[0;32mfor\u001b[0m \u001b[0mb\u001b[0m \u001b[0;32min\u001b[0m \u001b[0m_loaders\u001b[0m\u001b[0;34m[\u001b[0m\u001b[0mself\u001b[0m\u001b[0;34m.\u001b[0m\u001b[0mfake_l\u001b[0m\u001b[0;34m.\u001b[0m\u001b[0mnum_workers\u001b[0m\u001b[0;34m==\u001b[0m\u001b[0;36m0\u001b[0m\u001b[0;34m]\u001b[0m\u001b[0;34m(\u001b[0m\u001b[0mself\u001b[0m\u001b[0;34m.\u001b[0m\u001b[0mfake_l\u001b[0m\u001b[0;34m)\u001b[0m\u001b[0;34m:\u001b[0m\u001b[0;34m\u001b[0m\u001b[0;34m\u001b[0m\u001b[0m\n\u001b[0m\u001b[1;32m    102\u001b[0m             \u001b[0;32mif\u001b[0m \u001b[0mself\u001b[0m\u001b[0;34m.\u001b[0m\u001b[0mdevice\u001b[0m \u001b[0;32mis\u001b[0m \u001b[0;32mnot\u001b[0m \u001b[0;32mNone\u001b[0m\u001b[0;34m:\u001b[0m \u001b[0mb\u001b[0m \u001b[0;34m=\u001b[0m \u001b[0mto_device\u001b[0m\u001b[0;34m(\u001b[0m\u001b[0mb\u001b[0m\u001b[0;34m,\u001b[0m \u001b[0mself\u001b[0m\u001b[0;34m.\u001b[0m\u001b[0mdevice\u001b[0m\u001b[0;34m)\u001b[0m\u001b[0;34m\u001b[0m\u001b[0;34m\u001b[0m\u001b[0m\n\u001b[1;32m    103\u001b[0m             \u001b[0;32myield\u001b[0m \u001b[0mself\u001b[0m\u001b[0;34m.\u001b[0m\u001b[0mafter_batch\u001b[0m\u001b[0;34m(\u001b[0m\u001b[0mb\u001b[0m\u001b[0;34m)\u001b[0m\u001b[0;34m\u001b[0m\u001b[0;34m\u001b[0m\u001b[0m\n",
            "\u001b[0;32m/usr/local/lib/python3.6/dist-packages/torch/utils/data/dataloader.py\u001b[0m in \u001b[0;36m__next__\u001b[0;34m(self)\u001b[0m\n\u001b[1;32m    433\u001b[0m         \u001b[0;32mif\u001b[0m \u001b[0mself\u001b[0m\u001b[0;34m.\u001b[0m\u001b[0m_sampler_iter\u001b[0m \u001b[0;32mis\u001b[0m \u001b[0;32mNone\u001b[0m\u001b[0;34m:\u001b[0m\u001b[0;34m\u001b[0m\u001b[0;34m\u001b[0m\u001b[0m\n\u001b[1;32m    434\u001b[0m             \u001b[0mself\u001b[0m\u001b[0;34m.\u001b[0m\u001b[0m_reset\u001b[0m\u001b[0;34m(\u001b[0m\u001b[0;34m)\u001b[0m\u001b[0;34m\u001b[0m\u001b[0;34m\u001b[0m\u001b[0m\n\u001b[0;32m--> 435\u001b[0;31m         \u001b[0mdata\u001b[0m \u001b[0;34m=\u001b[0m \u001b[0mself\u001b[0m\u001b[0;34m.\u001b[0m\u001b[0m_next_data\u001b[0m\u001b[0;34m(\u001b[0m\u001b[0;34m)\u001b[0m\u001b[0;34m\u001b[0m\u001b[0;34m\u001b[0m\u001b[0m\n\u001b[0m\u001b[1;32m    436\u001b[0m         \u001b[0mself\u001b[0m\u001b[0;34m.\u001b[0m\u001b[0m_num_yielded\u001b[0m \u001b[0;34m+=\u001b[0m \u001b[0;36m1\u001b[0m\u001b[0;34m\u001b[0m\u001b[0;34m\u001b[0m\u001b[0m\n\u001b[1;32m    437\u001b[0m         \u001b[0;32mif\u001b[0m \u001b[0mself\u001b[0m\u001b[0;34m.\u001b[0m\u001b[0m_dataset_kind\u001b[0m \u001b[0;34m==\u001b[0m \u001b[0m_DatasetKind\u001b[0m\u001b[0;34m.\u001b[0m\u001b[0mIterable\u001b[0m \u001b[0;32mand\u001b[0m\u001b[0;31m \u001b[0m\u001b[0;31m\\\u001b[0m\u001b[0;34m\u001b[0m\u001b[0;34m\u001b[0m\u001b[0m\n",
            "\u001b[0;32m/usr/local/lib/python3.6/dist-packages/torch/utils/data/dataloader.py\u001b[0m in \u001b[0;36m_next_data\u001b[0;34m(self)\u001b[0m\n\u001b[1;32m    473\u001b[0m     \u001b[0;32mdef\u001b[0m \u001b[0m_next_data\u001b[0m\u001b[0;34m(\u001b[0m\u001b[0mself\u001b[0m\u001b[0;34m)\u001b[0m\u001b[0;34m:\u001b[0m\u001b[0;34m\u001b[0m\u001b[0;34m\u001b[0m\u001b[0m\n\u001b[1;32m    474\u001b[0m         \u001b[0mindex\u001b[0m \u001b[0;34m=\u001b[0m \u001b[0mself\u001b[0m\u001b[0;34m.\u001b[0m\u001b[0m_next_index\u001b[0m\u001b[0;34m(\u001b[0m\u001b[0;34m)\u001b[0m  \u001b[0;31m# may raise StopIteration\u001b[0m\u001b[0;34m\u001b[0m\u001b[0;34m\u001b[0m\u001b[0m\n\u001b[0;32m--> 475\u001b[0;31m         \u001b[0mdata\u001b[0m \u001b[0;34m=\u001b[0m \u001b[0mself\u001b[0m\u001b[0;34m.\u001b[0m\u001b[0m_dataset_fetcher\u001b[0m\u001b[0;34m.\u001b[0m\u001b[0mfetch\u001b[0m\u001b[0;34m(\u001b[0m\u001b[0mindex\u001b[0m\u001b[0;34m)\u001b[0m  \u001b[0;31m# may raise StopIteration\u001b[0m\u001b[0;34m\u001b[0m\u001b[0;34m\u001b[0m\u001b[0m\n\u001b[0m\u001b[1;32m    476\u001b[0m         \u001b[0;32mif\u001b[0m \u001b[0mself\u001b[0m\u001b[0;34m.\u001b[0m\u001b[0m_pin_memory\u001b[0m\u001b[0;34m:\u001b[0m\u001b[0;34m\u001b[0m\u001b[0;34m\u001b[0m\u001b[0m\n\u001b[1;32m    477\u001b[0m             \u001b[0mdata\u001b[0m \u001b[0;34m=\u001b[0m \u001b[0m_utils\u001b[0m\u001b[0;34m.\u001b[0m\u001b[0mpin_memory\u001b[0m\u001b[0;34m.\u001b[0m\u001b[0mpin_memory\u001b[0m\u001b[0;34m(\u001b[0m\u001b[0mdata\u001b[0m\u001b[0;34m)\u001b[0m\u001b[0;34m\u001b[0m\u001b[0;34m\u001b[0m\u001b[0m\n",
            "\u001b[0;32m/usr/local/lib/python3.6/dist-packages/torch/utils/data/_utils/fetch.py\u001b[0m in \u001b[0;36mfetch\u001b[0;34m(self, possibly_batched_index)\u001b[0m\n\u001b[1;32m     32\u001b[0m                 \u001b[0;32mraise\u001b[0m \u001b[0mStopIteration\u001b[0m\u001b[0;34m\u001b[0m\u001b[0;34m\u001b[0m\u001b[0m\n\u001b[1;32m     33\u001b[0m         \u001b[0;32melse\u001b[0m\u001b[0;34m:\u001b[0m\u001b[0;34m\u001b[0m\u001b[0;34m\u001b[0m\u001b[0m\n\u001b[0;32m---> 34\u001b[0;31m             \u001b[0mdata\u001b[0m \u001b[0;34m=\u001b[0m \u001b[0mnext\u001b[0m\u001b[0;34m(\u001b[0m\u001b[0mself\u001b[0m\u001b[0;34m.\u001b[0m\u001b[0mdataset_iter\u001b[0m\u001b[0;34m)\u001b[0m\u001b[0;34m\u001b[0m\u001b[0;34m\u001b[0m\u001b[0m\n\u001b[0m\u001b[1;32m     35\u001b[0m         \u001b[0;32mreturn\u001b[0m \u001b[0mself\u001b[0m\u001b[0;34m.\u001b[0m\u001b[0mcollate_fn\u001b[0m\u001b[0;34m(\u001b[0m\u001b[0mdata\u001b[0m\u001b[0;34m)\u001b[0m\u001b[0;34m\u001b[0m\u001b[0;34m\u001b[0m\u001b[0m\n\u001b[1;32m     36\u001b[0m \u001b[0;34m\u001b[0m\u001b[0m\n",
            "\u001b[0;32m/usr/local/lib/python3.6/dist-packages/fastai/data/load.py\u001b[0m in \u001b[0;36mcreate_batches\u001b[0;34m(self, samps)\u001b[0m\n\u001b[1;32m    108\u001b[0m         \u001b[0mself\u001b[0m\u001b[0;34m.\u001b[0m\u001b[0mit\u001b[0m \u001b[0;34m=\u001b[0m \u001b[0miter\u001b[0m\u001b[0;34m(\u001b[0m\u001b[0mself\u001b[0m\u001b[0;34m.\u001b[0m\u001b[0mdataset\u001b[0m\u001b[0;34m)\u001b[0m \u001b[0;32mif\u001b[0m \u001b[0mself\u001b[0m\u001b[0;34m.\u001b[0m\u001b[0mdataset\u001b[0m \u001b[0;32mis\u001b[0m \u001b[0;32mnot\u001b[0m \u001b[0;32mNone\u001b[0m \u001b[0;32melse\u001b[0m \u001b[0;32mNone\u001b[0m\u001b[0;34m\u001b[0m\u001b[0;34m\u001b[0m\u001b[0m\n\u001b[1;32m    109\u001b[0m         \u001b[0mres\u001b[0m \u001b[0;34m=\u001b[0m \u001b[0mfilter\u001b[0m\u001b[0;34m(\u001b[0m\u001b[0;32mlambda\u001b[0m \u001b[0mo\u001b[0m\u001b[0;34m:\u001b[0m\u001b[0mo\u001b[0m \u001b[0;32mis\u001b[0m \u001b[0;32mnot\u001b[0m \u001b[0;32mNone\u001b[0m\u001b[0;34m,\u001b[0m \u001b[0mmap\u001b[0m\u001b[0;34m(\u001b[0m\u001b[0mself\u001b[0m\u001b[0;34m.\u001b[0m\u001b[0mdo_item\u001b[0m\u001b[0;34m,\u001b[0m \u001b[0msamps\u001b[0m\u001b[0;34m)\u001b[0m\u001b[0;34m)\u001b[0m\u001b[0;34m\u001b[0m\u001b[0;34m\u001b[0m\u001b[0m\n\u001b[0;32m--> 110\u001b[0;31m         \u001b[0;32myield\u001b[0m \u001b[0;32mfrom\u001b[0m \u001b[0mmap\u001b[0m\u001b[0;34m(\u001b[0m\u001b[0mself\u001b[0m\u001b[0;34m.\u001b[0m\u001b[0mdo_batch\u001b[0m\u001b[0;34m,\u001b[0m \u001b[0mself\u001b[0m\u001b[0;34m.\u001b[0m\u001b[0mchunkify\u001b[0m\u001b[0;34m(\u001b[0m\u001b[0mres\u001b[0m\u001b[0;34m)\u001b[0m\u001b[0;34m)\u001b[0m\u001b[0;34m\u001b[0m\u001b[0;34m\u001b[0m\u001b[0m\n\u001b[0m\u001b[1;32m    111\u001b[0m \u001b[0;34m\u001b[0m\u001b[0m\n\u001b[1;32m    112\u001b[0m     \u001b[0;32mdef\u001b[0m \u001b[0mnew\u001b[0m\u001b[0;34m(\u001b[0m\u001b[0mself\u001b[0m\u001b[0;34m,\u001b[0m \u001b[0mdataset\u001b[0m\u001b[0;34m=\u001b[0m\u001b[0;32mNone\u001b[0m\u001b[0;34m,\u001b[0m \u001b[0mcls\u001b[0m\u001b[0;34m=\u001b[0m\u001b[0;32mNone\u001b[0m\u001b[0;34m,\u001b[0m \u001b[0;34m**\u001b[0m\u001b[0mkwargs\u001b[0m\u001b[0;34m)\u001b[0m\u001b[0;34m:\u001b[0m\u001b[0;34m\u001b[0m\u001b[0;34m\u001b[0m\u001b[0m\n",
            "\u001b[0;32m/usr/local/lib/python3.6/dist-packages/fastcore/basics.py\u001b[0m in \u001b[0;36mchunked\u001b[0;34m(it, chunk_sz, drop_last, n_chunks)\u001b[0m\n\u001b[1;32m    214\u001b[0m     \u001b[0;32mif\u001b[0m \u001b[0;32mnot\u001b[0m \u001b[0misinstance\u001b[0m\u001b[0;34m(\u001b[0m\u001b[0mit\u001b[0m\u001b[0;34m,\u001b[0m \u001b[0mIterator\u001b[0m\u001b[0;34m)\u001b[0m\u001b[0;34m:\u001b[0m \u001b[0mit\u001b[0m \u001b[0;34m=\u001b[0m \u001b[0miter\u001b[0m\u001b[0;34m(\u001b[0m\u001b[0mit\u001b[0m\u001b[0;34m)\u001b[0m\u001b[0;34m\u001b[0m\u001b[0;34m\u001b[0m\u001b[0m\n\u001b[1;32m    215\u001b[0m     \u001b[0;32mwhile\u001b[0m \u001b[0;32mTrue\u001b[0m\u001b[0;34m:\u001b[0m\u001b[0;34m\u001b[0m\u001b[0;34m\u001b[0m\u001b[0m\n\u001b[0;32m--> 216\u001b[0;31m         \u001b[0mres\u001b[0m \u001b[0;34m=\u001b[0m \u001b[0mlist\u001b[0m\u001b[0;34m(\u001b[0m\u001b[0mitertools\u001b[0m\u001b[0;34m.\u001b[0m\u001b[0mislice\u001b[0m\u001b[0;34m(\u001b[0m\u001b[0mit\u001b[0m\u001b[0;34m,\u001b[0m \u001b[0mchunk_sz\u001b[0m\u001b[0;34m)\u001b[0m\u001b[0;34m)\u001b[0m\u001b[0;34m\u001b[0m\u001b[0;34m\u001b[0m\u001b[0m\n\u001b[0m\u001b[1;32m    217\u001b[0m         \u001b[0;32mif\u001b[0m \u001b[0mres\u001b[0m \u001b[0;32mand\u001b[0m \u001b[0;34m(\u001b[0m\u001b[0mlen\u001b[0m\u001b[0;34m(\u001b[0m\u001b[0mres\u001b[0m\u001b[0;34m)\u001b[0m\u001b[0;34m==\u001b[0m\u001b[0mchunk_sz\u001b[0m \u001b[0;32mor\u001b[0m \u001b[0;32mnot\u001b[0m \u001b[0mdrop_last\u001b[0m\u001b[0;34m)\u001b[0m\u001b[0;34m:\u001b[0m \u001b[0;32myield\u001b[0m \u001b[0mres\u001b[0m\u001b[0;34m\u001b[0m\u001b[0;34m\u001b[0m\u001b[0m\n\u001b[1;32m    218\u001b[0m         \u001b[0;32mif\u001b[0m \u001b[0mlen\u001b[0m\u001b[0;34m(\u001b[0m\u001b[0mres\u001b[0m\u001b[0;34m)\u001b[0m\u001b[0;34m<\u001b[0m\u001b[0mchunk_sz\u001b[0m\u001b[0;34m:\u001b[0m \u001b[0;32mreturn\u001b[0m\u001b[0;34m\u001b[0m\u001b[0;34m\u001b[0m\u001b[0m\n",
            "\u001b[0;32m/usr/local/lib/python3.6/dist-packages/fastai/data/load.py\u001b[0m in \u001b[0;36mdo_item\u001b[0;34m(self, s)\u001b[0m\n\u001b[1;32m    123\u001b[0m     \u001b[0;32mdef\u001b[0m \u001b[0mprebatched\u001b[0m\u001b[0;34m(\u001b[0m\u001b[0mself\u001b[0m\u001b[0;34m)\u001b[0m\u001b[0;34m:\u001b[0m \u001b[0;32mreturn\u001b[0m \u001b[0mself\u001b[0m\u001b[0;34m.\u001b[0m\u001b[0mbs\u001b[0m \u001b[0;32mis\u001b[0m \u001b[0;32mNone\u001b[0m\u001b[0;34m\u001b[0m\u001b[0;34m\u001b[0m\u001b[0m\n\u001b[1;32m    124\u001b[0m     \u001b[0;32mdef\u001b[0m \u001b[0mdo_item\u001b[0m\u001b[0;34m(\u001b[0m\u001b[0mself\u001b[0m\u001b[0;34m,\u001b[0m \u001b[0ms\u001b[0m\u001b[0;34m)\u001b[0m\u001b[0;34m:\u001b[0m\u001b[0;34m\u001b[0m\u001b[0;34m\u001b[0m\u001b[0m\n\u001b[0;32m--> 125\u001b[0;31m         \u001b[0;32mtry\u001b[0m\u001b[0;34m:\u001b[0m \u001b[0;32mreturn\u001b[0m \u001b[0mself\u001b[0m\u001b[0;34m.\u001b[0m\u001b[0mafter_item\u001b[0m\u001b[0;34m(\u001b[0m\u001b[0mself\u001b[0m\u001b[0;34m.\u001b[0m\u001b[0mcreate_item\u001b[0m\u001b[0;34m(\u001b[0m\u001b[0ms\u001b[0m\u001b[0;34m)\u001b[0m\u001b[0;34m)\u001b[0m\u001b[0;34m\u001b[0m\u001b[0;34m\u001b[0m\u001b[0m\n\u001b[0m\u001b[1;32m    126\u001b[0m         \u001b[0;32mexcept\u001b[0m \u001b[0mSkipItemException\u001b[0m\u001b[0;34m:\u001b[0m \u001b[0;32mreturn\u001b[0m \u001b[0;32mNone\u001b[0m\u001b[0;34m\u001b[0m\u001b[0;34m\u001b[0m\u001b[0m\n\u001b[1;32m    127\u001b[0m     \u001b[0;32mdef\u001b[0m \u001b[0mchunkify\u001b[0m\u001b[0;34m(\u001b[0m\u001b[0mself\u001b[0m\u001b[0;34m,\u001b[0m \u001b[0mb\u001b[0m\u001b[0;34m)\u001b[0m\u001b[0;34m:\u001b[0m \u001b[0;32mreturn\u001b[0m \u001b[0mb\u001b[0m \u001b[0;32mif\u001b[0m \u001b[0mself\u001b[0m\u001b[0;34m.\u001b[0m\u001b[0mprebatched\u001b[0m \u001b[0;32melse\u001b[0m \u001b[0mchunked\u001b[0m\u001b[0;34m(\u001b[0m\u001b[0mb\u001b[0m\u001b[0;34m,\u001b[0m \u001b[0mself\u001b[0m\u001b[0;34m.\u001b[0m\u001b[0mbs\u001b[0m\u001b[0;34m,\u001b[0m \u001b[0mself\u001b[0m\u001b[0;34m.\u001b[0m\u001b[0mdrop_last\u001b[0m\u001b[0;34m)\u001b[0m\u001b[0;34m\u001b[0m\u001b[0;34m\u001b[0m\u001b[0m\n",
            "\u001b[0;32m/usr/local/lib/python3.6/dist-packages/fastai/data/load.py\u001b[0m in \u001b[0;36mcreate_item\u001b[0;34m(self, s)\u001b[0m\n\u001b[1;32m    129\u001b[0m     \u001b[0;32mdef\u001b[0m \u001b[0mrandomize\u001b[0m\u001b[0;34m(\u001b[0m\u001b[0mself\u001b[0m\u001b[0;34m)\u001b[0m\u001b[0;34m:\u001b[0m \u001b[0mself\u001b[0m\u001b[0;34m.\u001b[0m\u001b[0mrng\u001b[0m \u001b[0;34m=\u001b[0m \u001b[0mrandom\u001b[0m\u001b[0;34m.\u001b[0m\u001b[0mRandom\u001b[0m\u001b[0;34m(\u001b[0m\u001b[0mself\u001b[0m\u001b[0;34m.\u001b[0m\u001b[0mrng\u001b[0m\u001b[0;34m.\u001b[0m\u001b[0mrandint\u001b[0m\u001b[0;34m(\u001b[0m\u001b[0;36m0\u001b[0m\u001b[0;34m,\u001b[0m\u001b[0;36m2\u001b[0m\u001b[0;34m**\u001b[0m\u001b[0;36m32\u001b[0m\u001b[0;34m-\u001b[0m\u001b[0;36m1\u001b[0m\u001b[0;34m)\u001b[0m\u001b[0;34m)\u001b[0m\u001b[0;34m\u001b[0m\u001b[0;34m\u001b[0m\u001b[0m\n\u001b[1;32m    130\u001b[0m     \u001b[0;32mdef\u001b[0m \u001b[0mretain\u001b[0m\u001b[0;34m(\u001b[0m\u001b[0mself\u001b[0m\u001b[0;34m,\u001b[0m \u001b[0mres\u001b[0m\u001b[0;34m,\u001b[0m \u001b[0mb\u001b[0m\u001b[0;34m)\u001b[0m\u001b[0;34m:\u001b[0m  \u001b[0;32mreturn\u001b[0m \u001b[0mretain_types\u001b[0m\u001b[0;34m(\u001b[0m\u001b[0mres\u001b[0m\u001b[0;34m,\u001b[0m \u001b[0mb\u001b[0m\u001b[0;34m[\u001b[0m\u001b[0;36m0\u001b[0m\u001b[0;34m]\u001b[0m \u001b[0;32mif\u001b[0m \u001b[0mis_listy\u001b[0m\u001b[0;34m(\u001b[0m\u001b[0mb\u001b[0m\u001b[0;34m)\u001b[0m \u001b[0;32melse\u001b[0m \u001b[0mb\u001b[0m\u001b[0;34m)\u001b[0m\u001b[0;34m\u001b[0m\u001b[0;34m\u001b[0m\u001b[0m\n\u001b[0;32m--> 131\u001b[0;31m     \u001b[0;32mdef\u001b[0m \u001b[0mcreate_item\u001b[0m\u001b[0;34m(\u001b[0m\u001b[0mself\u001b[0m\u001b[0;34m,\u001b[0m \u001b[0ms\u001b[0m\u001b[0;34m)\u001b[0m\u001b[0;34m:\u001b[0m  \u001b[0;32mreturn\u001b[0m \u001b[0mnext\u001b[0m\u001b[0;34m(\u001b[0m\u001b[0mself\u001b[0m\u001b[0;34m.\u001b[0m\u001b[0mit\u001b[0m\u001b[0;34m)\u001b[0m \u001b[0;32mif\u001b[0m \u001b[0ms\u001b[0m \u001b[0;32mis\u001b[0m \u001b[0;32mNone\u001b[0m \u001b[0;32melse\u001b[0m \u001b[0mself\u001b[0m\u001b[0;34m.\u001b[0m\u001b[0mdataset\u001b[0m\u001b[0;34m[\u001b[0m\u001b[0ms\u001b[0m\u001b[0;34m]\u001b[0m\u001b[0;34m\u001b[0m\u001b[0;34m\u001b[0m\u001b[0m\n\u001b[0m\u001b[1;32m    132\u001b[0m     \u001b[0;32mdef\u001b[0m \u001b[0mcreate_batch\u001b[0m\u001b[0;34m(\u001b[0m\u001b[0mself\u001b[0m\u001b[0;34m,\u001b[0m \u001b[0mb\u001b[0m\u001b[0;34m)\u001b[0m\u001b[0;34m:\u001b[0m \u001b[0;32mreturn\u001b[0m \u001b[0;34m(\u001b[0m\u001b[0mfa_collate\u001b[0m\u001b[0;34m,\u001b[0m\u001b[0mfa_convert\u001b[0m\u001b[0;34m)\u001b[0m\u001b[0;34m[\u001b[0m\u001b[0mself\u001b[0m\u001b[0;34m.\u001b[0m\u001b[0mprebatched\u001b[0m\u001b[0;34m]\u001b[0m\u001b[0;34m(\u001b[0m\u001b[0mb\u001b[0m\u001b[0;34m)\u001b[0m\u001b[0;34m\u001b[0m\u001b[0;34m\u001b[0m\u001b[0m\n\u001b[1;32m    133\u001b[0m     \u001b[0;32mdef\u001b[0m \u001b[0mdo_batch\u001b[0m\u001b[0;34m(\u001b[0m\u001b[0mself\u001b[0m\u001b[0;34m,\u001b[0m \u001b[0mb\u001b[0m\u001b[0;34m)\u001b[0m\u001b[0;34m:\u001b[0m \u001b[0;32mreturn\u001b[0m \u001b[0mself\u001b[0m\u001b[0;34m.\u001b[0m\u001b[0mretain\u001b[0m\u001b[0;34m(\u001b[0m\u001b[0mself\u001b[0m\u001b[0;34m.\u001b[0m\u001b[0mcreate_batch\u001b[0m\u001b[0;34m(\u001b[0m\u001b[0mself\u001b[0m\u001b[0;34m.\u001b[0m\u001b[0mbefore_batch\u001b[0m\u001b[0;34m(\u001b[0m\u001b[0mb\u001b[0m\u001b[0;34m)\u001b[0m\u001b[0;34m)\u001b[0m\u001b[0;34m,\u001b[0m \u001b[0mb\u001b[0m\u001b[0;34m)\u001b[0m\u001b[0;34m\u001b[0m\u001b[0;34m\u001b[0m\u001b[0m\n",
            "\u001b[0;31mKeyboardInterrupt\u001b[0m: "
          ]
        }
      ]
    },
    {
      "cell_type": "code",
      "metadata": {
        "id": "Dkt1CQmPw9fr"
      },
      "source": [
        ""
      ],
      "execution_count": null,
      "outputs": []
    }
  ]
}