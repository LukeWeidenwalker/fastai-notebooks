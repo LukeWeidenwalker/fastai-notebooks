{
  "nbformat": 4,
  "nbformat_minor": 0,
  "metadata": {
    "kernelspec": {
      "display_name": "Python [conda env:ai-notebooks] *",
      "language": "python",
      "name": "conda-env-ai-notebooks-py"
    },
    "language_info": {
      "codemirror_mode": {
        "name": "ipython",
        "version": 3
      },
      "file_extension": ".py",
      "mimetype": "text/x-python",
      "name": "python",
      "nbconvert_exporter": "python",
      "pygments_lexer": "ipython3",
      "version": "3.9.1"
    },
    "colab": {
      "name": "fastai_mnist.ipynb",
      "provenance": []
    },
    "accelerator": "GPU"
  },
  "cells": [
    {
      "cell_type": "code",
      "metadata": {
        "id": "t_kkM7VebmnD",
        "colab": {
          "base_uri": "https://localhost:8080/"
        },
        "outputId": "3ac21ed8-08e7-4aec-f79f-7a72b6b85d82"
      },
      "source": [
        "!pip install -Uqq fastbook\n",
        "import fastbook \n",
        "fastbook.setup_book()"
      ],
      "execution_count": 1,
      "outputs": [
        {
          "output_type": "stream",
          "text": [
            "\u001b[?25l\r\u001b[K     |▌                               | 10kB 30.2MB/s eta 0:00:01\r\u001b[K     |█                               | 20kB 33.5MB/s eta 0:00:01\r\u001b[K     |█▍                              | 30kB 36.6MB/s eta 0:00:01\r\u001b[K     |█▉                              | 40kB 40.6MB/s eta 0:00:01\r\u001b[K     |██▎                             | 51kB 41.2MB/s eta 0:00:01\r\u001b[K     |██▊                             | 61kB 42.5MB/s eta 0:00:01\r\u001b[K     |███▏                            | 71kB 42.9MB/s eta 0:00:01\r\u001b[K     |███▋                            | 81kB 28.1MB/s eta 0:00:01\r\u001b[K     |████                            | 92kB 28.9MB/s eta 0:00:01\r\u001b[K     |████▌                           | 102kB 29.4MB/s eta 0:00:01\r\u001b[K     |█████                           | 112kB 29.4MB/s eta 0:00:01\r\u001b[K     |█████▌                          | 122kB 29.4MB/s eta 0:00:01\r\u001b[K     |██████                          | 133kB 29.4MB/s eta 0:00:01\r\u001b[K     |██████▍                         | 143kB 29.4MB/s eta 0:00:01\r\u001b[K     |██████▉                         | 153kB 29.4MB/s eta 0:00:01\r\u001b[K     |███████▎                        | 163kB 29.4MB/s eta 0:00:01\r\u001b[K     |███████▊                        | 174kB 29.4MB/s eta 0:00:01\r\u001b[K     |████████▏                       | 184kB 29.4MB/s eta 0:00:01\r\u001b[K     |████████▋                       | 194kB 29.4MB/s eta 0:00:01\r\u001b[K     |█████████                       | 204kB 29.4MB/s eta 0:00:01\r\u001b[K     |█████████▋                      | 215kB 29.4MB/s eta 0:00:01\r\u001b[K     |██████████                      | 225kB 29.4MB/s eta 0:00:01\r\u001b[K     |██████████▌                     | 235kB 29.4MB/s eta 0:00:01\r\u001b[K     |███████████                     | 245kB 29.4MB/s eta 0:00:01\r\u001b[K     |███████████▍                    | 256kB 29.4MB/s eta 0:00:01\r\u001b[K     |███████████▉                    | 266kB 29.4MB/s eta 0:00:01\r\u001b[K     |████████████▎                   | 276kB 29.4MB/s eta 0:00:01\r\u001b[K     |████████████▊                   | 286kB 29.4MB/s eta 0:00:01\r\u001b[K     |█████████████▏                  | 296kB 29.4MB/s eta 0:00:01\r\u001b[K     |█████████████▋                  | 307kB 29.4MB/s eta 0:00:01\r\u001b[K     |██████████████                  | 317kB 29.4MB/s eta 0:00:01\r\u001b[K     |██████████████▋                 | 327kB 29.4MB/s eta 0:00:01\r\u001b[K     |███████████████                 | 337kB 29.4MB/s eta 0:00:01\r\u001b[K     |███████████████▌                | 348kB 29.4MB/s eta 0:00:01\r\u001b[K     |████████████████                | 358kB 29.4MB/s eta 0:00:01\r\u001b[K     |████████████████▍               | 368kB 29.4MB/s eta 0:00:01\r\u001b[K     |████████████████▉               | 378kB 29.4MB/s eta 0:00:01\r\u001b[K     |█████████████████▎              | 389kB 29.4MB/s eta 0:00:01\r\u001b[K     |█████████████████▊              | 399kB 29.4MB/s eta 0:00:01\r\u001b[K     |██████████████████▏             | 409kB 29.4MB/s eta 0:00:01\r\u001b[K     |██████████████████▋             | 419kB 29.4MB/s eta 0:00:01\r\u001b[K     |███████████████████▏            | 430kB 29.4MB/s eta 0:00:01\r\u001b[K     |███████████████████▋            | 440kB 29.4MB/s eta 0:00:01\r\u001b[K     |████████████████████            | 450kB 29.4MB/s eta 0:00:01\r\u001b[K     |████████████████████▌           | 460kB 29.4MB/s eta 0:00:01\r\u001b[K     |█████████████████████           | 471kB 29.4MB/s eta 0:00:01\r\u001b[K     |█████████████████████▍          | 481kB 29.4MB/s eta 0:00:01\r\u001b[K     |█████████████████████▉          | 491kB 29.4MB/s eta 0:00:01\r\u001b[K     |██████████████████████▎         | 501kB 29.4MB/s eta 0:00:01\r\u001b[K     |██████████████████████▊         | 512kB 29.4MB/s eta 0:00:01\r\u001b[K     |███████████████████████▏        | 522kB 29.4MB/s eta 0:00:01\r\u001b[K     |███████████████████████▋        | 532kB 29.4MB/s eta 0:00:01\r\u001b[K     |████████████████████████▏       | 542kB 29.4MB/s eta 0:00:01\r\u001b[K     |████████████████████████▋       | 552kB 29.4MB/s eta 0:00:01\r\u001b[K     |█████████████████████████       | 563kB 29.4MB/s eta 0:00:01\r\u001b[K     |█████████████████████████▌      | 573kB 29.4MB/s eta 0:00:01\r\u001b[K     |██████████████████████████      | 583kB 29.4MB/s eta 0:00:01\r\u001b[K     |██████████████████████████▍     | 593kB 29.4MB/s eta 0:00:01\r\u001b[K     |██████████████████████████▉     | 604kB 29.4MB/s eta 0:00:01\r\u001b[K     |███████████████████████████▎    | 614kB 29.4MB/s eta 0:00:01\r\u001b[K     |███████████████████████████▊    | 624kB 29.4MB/s eta 0:00:01\r\u001b[K     |████████████████████████████▏   | 634kB 29.4MB/s eta 0:00:01\r\u001b[K     |████████████████████████████▊   | 645kB 29.4MB/s eta 0:00:01\r\u001b[K     |█████████████████████████████▏  | 655kB 29.4MB/s eta 0:00:01\r\u001b[K     |█████████████████████████████▋  | 665kB 29.4MB/s eta 0:00:01\r\u001b[K     |██████████████████████████████  | 675kB 29.4MB/s eta 0:00:01\r\u001b[K     |██████████████████████████████▌ | 686kB 29.4MB/s eta 0:00:01\r\u001b[K     |███████████████████████████████ | 696kB 29.4MB/s eta 0:00:01\r\u001b[K     |███████████████████████████████▍| 706kB 29.4MB/s eta 0:00:01\r\u001b[K     |███████████████████████████████▉| 716kB 29.4MB/s eta 0:00:01\r\u001b[K     |████████████████████████████████| 727kB 29.4MB/s \n",
            "\u001b[K     |████████████████████████████████| 194kB 53.8MB/s \n",
            "\u001b[K     |████████████████████████████████| 1.2MB 51.3MB/s \n",
            "\u001b[K     |████████████████████████████████| 51kB 8.3MB/s \n",
            "\u001b[K     |████████████████████████████████| 61kB 8.4MB/s \n",
            "\u001b[?25hMounted at /content/gdrive\n"
          ],
          "name": "stdout"
        }
      ]
    },
    {
      "cell_type": "code",
      "metadata": {
        "id": "CYXRq6ObcT5o"
      },
      "source": [
        "from fastai.vision.all import *\n",
        "from fastbook import *\n",
        "from time import time"
      ],
      "execution_count": 2,
      "outputs": []
    },
    {
      "cell_type": "code",
      "metadata": {
        "id": "kZ6FPr1Gcmyx",
        "colab": {
          "base_uri": "https://localhost:8080/",
          "height": 17
        },
        "outputId": "b81d2761-66b0-40c6-9676-3a48466b8ae7"
      },
      "source": [
        "path = untar_data(URLs.MNIST)\n",
        "Path.BASE_PATH = path"
      ],
      "execution_count": 3,
      "outputs": [
        {
          "output_type": "display_data",
          "data": {
            "text/html": [
              ""
            ],
            "text/plain": [
              "<IPython.core.display.HTML object>"
            ]
          },
          "metadata": {
            "tags": []
          }
        }
      ]
    },
    {
      "cell_type": "code",
      "metadata": {
        "id": "IffGscQgxy7J",
        "outputId": "3a016406-e60c-45ee-f49a-fa66d7c6c8aa",
        "colab": {
          "base_uri": "https://localhost:8080/"
        }
      },
      "source": [
        "path.ls()"
      ],
      "execution_count": 4,
      "outputs": [
        {
          "output_type": "execute_result",
          "data": {
            "text/plain": [
              "(#2) [Path('training'),Path('testing')]"
            ]
          },
          "metadata": {
            "tags": []
          },
          "execution_count": 4
        }
      ]
    },
    {
      "cell_type": "code",
      "metadata": {
        "id": "ElpnIcsIUz_n"
      },
      "source": [
        "digits = DataBlock(blocks=(ImageBlock(cls=PILImageBW), CategoryBlock),\n",
        "                   get_items=get_image_files,\n",
        "                   splitter=GrandparentSplitter(train_name='training', valid_name='testing'),\n",
        "                   get_y=parent_label)"
      ],
      "execution_count": 27,
      "outputs": []
    },
    {
      "cell_type": "code",
      "metadata": {
        "id": "Q0LuCWpBU1dz"
      },
      "source": [
        "dls = digits.dataloaders(path)"
      ],
      "execution_count": 28,
      "outputs": []
    },
    {
      "cell_type": "code",
      "metadata": {
        "id": "EZpnXI4xaNm6",
        "outputId": "860cc7f2-9407-49e7-88f3-782a68664eff",
        "colab": {
          "base_uri": "https://localhost:8080/"
        }
      },
      "source": [
        "dls.one_batch()[0].shape, dls.one_batch()[1]"
      ],
      "execution_count": 29,
      "outputs": [
        {
          "output_type": "execute_result",
          "data": {
            "text/plain": [
              "((64, 1, 28, 28),\n",
              " TensorCategory([1, 7, 8, 3, 7, 5, 3, 5, 2, 5, 4, 2, 1, 4, 8, 0, 9, 8, 3, 5, 5, 7, 6, 3, 3, 6, 1, 8, 7, 7, 1, 8, 9, 0, 6, 0, 3, 4, 0, 8, 1, 1, 6, 9, 4, 5, 6, 8, 1, 1, 9, 7, 4, 1, 4, 8, 3, 6, 1, 5, 7, 5, 7, 6],\n",
              "        device='cuda:0'))"
            ]
          },
          "metadata": {
            "tags": []
          },
          "execution_count": 29
        }
      ]
    },
    {
      "cell_type": "code",
      "metadata": {
        "id": "ZVKzG8OLwR1w",
        "outputId": "d1d311dc-dabc-4fdc-d350-d82f9855b348",
        "colab": {
          "base_uri": "https://localhost:8080/"
        }
      },
      "source": [
        "dls.valid.one_batch()[0][0].shape"
      ],
      "execution_count": 30,
      "outputs": [
        {
          "output_type": "execute_result",
          "data": {
            "text/plain": [
              "(1, 28, 28)"
            ]
          },
          "metadata": {
            "tags": []
          },
          "execution_count": 30
        }
      ]
    },
    {
      "cell_type": "markdown",
      "metadata": {
        "id": "9eKg1ZQ6Sfh3"
      },
      "source": [
        "# Model"
      ]
    },
    {
      "cell_type": "code",
      "metadata": {
        "id": "WljdI5wBrfK4",
        "colab": {
          "base_uri": "https://localhost:8080/"
        },
        "outputId": "71caff63-8b1a-4146-ee73-f60e3742cd79"
      },
      "source": [
        "def mnist_loss(preds, target):\n",
        "  return torch.where(target==1, 1-preds, preds).mean()\n",
        "\n",
        "preds = tensor([0.2, 0.6, 0.3])\n",
        "target = tensor([0, 1, 1])\n",
        "mnist_loss(preds, target)"
      ],
      "execution_count": 31,
      "outputs": [
        {
          "output_type": "execute_result",
          "data": {
            "text/plain": [
              "tensor(0.4333)"
            ]
          },
          "metadata": {
            "tags": []
          },
          "execution_count": 31
        }
      ]
    },
    {
      "cell_type": "code",
      "metadata": {
        "colab": {
          "base_uri": "https://localhost:8080/"
        },
        "id": "-QXlKWgKj8nv",
        "outputId": "d06e7dc8-aaf7-46a6-b5bf-b2432ab4ca64"
      },
      "source": [
        "def batch_accuracy(preds, yb):\n",
        "  preds = preds.argmax(dim=1)\n",
        "  correct = preds == yb\n",
        "  return correct.float().mean()\n",
        "\n",
        "test_xb = tensor([[0.2, 0.2, 0.6], [0.1, 0.8, 0.1], [0.3, 0.3, 0.4]])\n",
        "test_yb = tensor([2, 1, 0])\n",
        "batch_accuracy(test_xb, test_yb)"
      ],
      "execution_count": 32,
      "outputs": [
        {
          "output_type": "execute_result",
          "data": {
            "text/plain": [
              "tensor(0.6667)"
            ]
          },
          "metadata": {
            "tags": []
          },
          "execution_count": 32
        }
      ]
    },
    {
      "cell_type": "code",
      "metadata": {
        "id": "Gv7AMiXekGOY"
      },
      "source": [
        "class BasicOptimiser:\n",
        "  def __init__(self, params, lr):\n",
        "    self.params,self.lr = list(params),lr\n",
        "\n",
        "  def step(self):\n",
        "    for p in self.params:\n",
        "      p.data -= p.grad.data * self.lr\n",
        "\n",
        "  def zero_grad(self):\n",
        "    for p in self.params:\n",
        "      p.grad = None"
      ],
      "execution_count": 33,
      "outputs": []
    },
    {
      "cell_type": "code",
      "metadata": {
        "id": "Iy2CzjQvwLNS"
      },
      "source": [
        "class BasicSigmoid:\n",
        "  def __call__(self, xb):\n",
        "    return xb.sigmoid()\n",
        "\n",
        "  def parameters(self):\n",
        "    return []"
      ],
      "execution_count": 34,
      "outputs": []
    },
    {
      "cell_type": "code",
      "metadata": {
        "id": "-oFPB37skB3R"
      },
      "source": [
        "class BasicLearner:\n",
        "  def __init__(self, dls: DataLoaders, model, opt_func, loss_function, batch_accuracy):\n",
        "    self.dls = dls # type: DataLoaders\n",
        "    self.model = model\n",
        "    self.opt_func = opt_func(model.parameters(), 0.03)\n",
        "    self.loss_function = loss_function\n",
        "    self.batch_accuracy = batch_accuracy\n",
        "\n",
        "  def validate_epoch(self):\n",
        "    accs = [self.batch_accuracy(self.model(xb), yb) for xb, yb in self.dls.valid]\n",
        "    return round(torch.stack(accs).mean().item(), 4)\n",
        "\n",
        "  def fit(self, epochs):\n",
        "    for epoch in range(epochs):\n",
        "      accs = []\n",
        "      start_time = time()\n",
        "      batch_counter = 1\n",
        "      for xb, yb in self.dls.train:\n",
        "        print(f\"Epoch {epoch}, batch {batch_counter}\", end=\"\\r\")\n",
        "        batch_counter += 1\n",
        "        preds = self.model(xb)\n",
        "        loss = self.loss_function(preds, yb)\n",
        "        loss.backward()\n",
        "        self.opt_func.step()\n",
        "        self.opt_func.zero_grad()\n",
        "      print(f\"Epoch {epoch}, Accuracy: {self.validate_epoch()}, took {time() - start_time:.2f}s\")\n",
        "\n",
        "  def pred(self, xb):\n",
        "    return self.model(xb).argmax(dim=1)"
      ],
      "execution_count": 35,
      "outputs": []
    },
    {
      "cell_type": "code",
      "metadata": {
        "id": "Bu_jjl5lqfzI",
        "outputId": "999304c9-4a56-4dab-d0a4-5e493a11e341",
        "colab": {
          "base_uri": "https://localhost:8080/"
        }
      },
      "source": [
        "simple_net = nn.Sequential(\n",
        "    nn.Flatten(),\n",
        "    nn.Linear(28*28,30),\n",
        "    nn.ReLU(),\n",
        "    nn.Linear(30,10)\n",
        ")\n",
        "simple_net.to(torch.cuda.current_device())"
      ],
      "execution_count": 36,
      "outputs": [
        {
          "output_type": "execute_result",
          "data": {
            "text/plain": [
              "Sequential(\n",
              "  (0): Flatten(start_dim=1, end_dim=-1)\n",
              "  (1): Linear(in_features=784, out_features=30, bias=True)\n",
              "  (2): ReLU()\n",
              "  (3): Linear(in_features=30, out_features=10, bias=True)\n",
              ")"
            ]
          },
          "metadata": {
            "tags": []
          },
          "execution_count": 36
        }
      ]
    },
    {
      "cell_type": "markdown",
      "metadata": {
        "id": "lwfg0tEr5o56"
      },
      "source": [
        "moving the model to GPU is usually done by fastai "
      ]
    },
    {
      "cell_type": "code",
      "metadata": {
        "colab": {
          "base_uri": "https://localhost:8080/"
        },
        "id": "FhcXL7q7sMiO",
        "outputId": "8137d480-5c86-4c6c-8a9f-720867fb3038"
      },
      "source": [
        "learner = BasicLearner(dls, simple_net, BasicOptimiser, F.cross_entropy, batch_accuracy)\n",
        "learner.fit(2)"
      ],
      "execution_count": 37,
      "outputs": [
        {
          "output_type": "stream",
          "text": [
            "Epoch 0, Accuracy: 0.9011, took 53.84s\n",
            "Epoch 1, Accuracy: 0.9121, took 53.98s\n"
          ],
          "name": "stdout"
        }
      ]
    },
    {
      "cell_type": "code",
      "metadata": {
        "id": "KunaTZec5KH9",
        "outputId": "75872ee9-729e-4914-ee50-845f79ad84a8",
        "colab": {
          "base_uri": "https://localhost:8080/"
        }
      },
      "source": [
        "torch.cuda.get_device_name(0), torch.cuda.current_device()"
      ],
      "execution_count": 17,
      "outputs": [
        {
          "output_type": "execute_result",
          "data": {
            "text/plain": [
              "('Tesla T4', 0)"
            ]
          },
          "metadata": {
            "tags": []
          },
          "execution_count": 17
        }
      ]
    },
    {
      "cell_type": "code",
      "metadata": {
        "id": "wOcz0gk4wnki",
        "outputId": "76bf2d7c-3bd7-453e-a4f0-6966b2c79fca",
        "colab": {
          "base_uri": "https://localhost:8080/"
        }
      },
      "source": [
        "valid_im, valid_label = dls.valid.one_batch()[0][4], dls.valid.one_batch()[1][4]\n",
        "prediction = learner.pred(valid_im)\n",
        "dls.vocab[prediction], dls.vocab[valid_label]"
      ],
      "execution_count": 37,
      "outputs": [
        {
          "output_type": "execute_result",
          "data": {
            "text/plain": [
              "((#1) ['7'], '7')"
            ]
          },
          "metadata": {
            "tags": []
          },
          "execution_count": 37
        }
      ]
    },
    {
      "cell_type": "markdown",
      "metadata": {
        "id": "PHS0LUnYVccd"
      },
      "source": [
        "# Experiments"
      ]
    },
    {
      "cell_type": "markdown",
      "metadata": {
        "id": "g0Stj2htVy4L"
      },
      "source": [
        "What about using the median loss, rather than the mean?"
      ]
    },
    {
      "cell_type": "code",
      "metadata": {
        "id": "Dkt1CQmPw9fr"
      },
      "source": [
        "def mnist_loss_median(preds, target):\n",
        "  return torch.where(target==1, 1-preds, preds).median()"
      ],
      "execution_count": null,
      "outputs": []
    },
    {
      "cell_type": "code",
      "metadata": {
        "id": "sQ2H2XLXViZx",
        "colab": {
          "base_uri": "https://localhost:8080/"
        },
        "outputId": "26be82f8-aaa1-49ad-e0b7-9da25cb31cc9"
      },
      "source": [
        "model = SimpleNet(28*28, 1)\n",
        "learner_exp1 = BasicLearner(dls, model, BasicOptimiser(model.parameters(), 0.03), mnist_loss_median, batch_accuracy)\n",
        "learner_exp1.fit(10)"
      ],
      "execution_count": null,
      "outputs": [
        {
          "output_type": "stream",
          "text": [
            "Epoch 0, Accuracy: 0.5068\n",
            "Epoch 1, Accuracy: 0.5068\n",
            "Epoch 2, Accuracy: 0.5068\n",
            "Epoch 3, Accuracy: 0.5068\n",
            "Epoch 4, Accuracy: 0.5166\n",
            "Epoch 5, Accuracy: 0.5552\n",
            "Epoch 6, Accuracy: 0.6074\n",
            "Epoch 7, Accuracy: 0.6519\n",
            "Epoch 8, Accuracy: 0.7769\n",
            "Epoch 9, Accuracy: 0.8369\n"
          ],
          "name": "stdout"
        }
      ]
    },
    {
      "cell_type": "markdown",
      "metadata": {
        "id": "Ia9qnz4kVone"
      },
      "source": [
        "Answer: It just trains slower (but still converges at some point in this case)"
      ]
    },
    {
      "cell_type": "code",
      "metadata": {
        "id": "14XYlefzV9B4"
      },
      "source": [
        ""
      ],
      "execution_count": null,
      "outputs": []
    },
    {
      "cell_type": "markdown",
      "metadata": {
        "id": "GpduHr0VWgAh"
      },
      "source": [
        "## Bonus: Weights & Biases"
      ]
    },
    {
      "cell_type": "code",
      "metadata": {
        "id": "Sk758cbBWjwX"
      },
      "source": [
        ""
      ],
      "execution_count": null,
      "outputs": []
    }
  ]
}