{
  "nbformat": 4,
  "nbformat_minor": 0,
  "metadata": {
    "colab": {
      "name": "08_movielens_collab.ipynb",
      "provenance": [],
      "authorship_tag": "ABX9TyPRQC5M0rTMbet5OODh4Cfl",
      "include_colab_link": true
    },
    "kernelspec": {
      "name": "python3",
      "display_name": "Python 3"
    },
    "language_info": {
      "name": "python"
    },
    "accelerator": "GPU"
  },
  "cells": [
    {
      "cell_type": "markdown",
      "metadata": {
        "id": "view-in-github",
        "colab_type": "text"
      },
      "source": [
        "<a href=\"https://colab.research.google.com/github/LukeWeidenwalker/fastai-notebooks/blob/master/08_movielens_collab.ipynb\" target=\"_parent\"><img src=\"https://colab.research.google.com/assets/colab-badge.svg\" alt=\"Open In Colab\"/></a>"
      ]
    },
    {
      "cell_type": "code",
      "metadata": {
        "colab": {
          "base_uri": "https://localhost:8080/"
        },
        "id": "0l03gIrnwA5o",
        "outputId": "d500f69f-1059-4aec-e9a1-f4b8976fe1e8"
      },
      "source": [
        "!pip install -Uqq fastai"
      ],
      "execution_count": 1,
      "outputs": [
        {
          "output_type": "stream",
          "text": [
            "\u001b[?25l\r\u001b[K     |█▊                              | 10kB 23.7MB/s eta 0:00:01\r\u001b[K     |███▍                            | 20kB 29.4MB/s eta 0:00:01\r\u001b[K     |█████                           | 30kB 20.6MB/s eta 0:00:01\r\u001b[K     |██████▊                         | 40kB 16.3MB/s eta 0:00:01\r\u001b[K     |████████▍                       | 51kB 8.6MB/s eta 0:00:01\r\u001b[K     |██████████                      | 61kB 8.9MB/s eta 0:00:01\r\u001b[K     |███████████▉                    | 71kB 9.0MB/s eta 0:00:01\r\u001b[K     |█████████████▌                  | 81kB 9.2MB/s eta 0:00:01\r\u001b[K     |███████████████▏                | 92kB 10.0MB/s eta 0:00:01\r\u001b[K     |████████████████▉               | 102kB 8.3MB/s eta 0:00:01\r\u001b[K     |██████████████████▌             | 112kB 8.3MB/s eta 0:00:01\r\u001b[K     |████████████████████▏           | 122kB 8.3MB/s eta 0:00:01\r\u001b[K     |██████████████████████          | 133kB 8.3MB/s eta 0:00:01\r\u001b[K     |███████████████████████▋        | 143kB 8.3MB/s eta 0:00:01\r\u001b[K     |█████████████████████████▎      | 153kB 8.3MB/s eta 0:00:01\r\u001b[K     |███████████████████████████     | 163kB 8.3MB/s eta 0:00:01\r\u001b[K     |████████████████████████████▋   | 174kB 8.3MB/s eta 0:00:01\r\u001b[K     |██████████████████████████████▎ | 184kB 8.3MB/s eta 0:00:01\r\u001b[K     |████████████████████████████████| 194kB 8.3MB/s eta 0:00:01\r\u001b[K     |████████████████████████████████| 204kB 8.3MB/s \n",
            "\u001b[?25h\u001b[?25l\r\u001b[K     |██████                          | 10kB 31.5MB/s eta 0:00:01\r\u001b[K     |████████████▏                   | 20kB 37.9MB/s eta 0:00:01\r\u001b[K     |██████████████████▎             | 30kB 39.6MB/s eta 0:00:01\r\u001b[K     |████████████████████████▍       | 40kB 40.9MB/s eta 0:00:01\r\u001b[K     |██████████████████████████████▌ | 51kB 40.3MB/s eta 0:00:01\r\u001b[K     |████████████████████████████████| 61kB 9.4MB/s \n",
            "\u001b[?25h"
          ],
          "name": "stdout"
        }
      ]
    },
    {
      "cell_type": "code",
      "metadata": {
        "id": "7DjVLBsQwZmp"
      },
      "source": [
        "from fastai.vision.all import *\n",
        "\n",
        "import pandas as pd"
      ],
      "execution_count": 8,
      "outputs": []
    },
    {
      "cell_type": "code",
      "metadata": {
        "colab": {
          "base_uri": "https://localhost:8080/",
          "height": 17
        },
        "id": "EL6RgQtMwlaq",
        "outputId": "c849f142-a559-422f-b12f-982e56db0a2e"
      },
      "source": [
        "path = untar_data(URLs.ML_100k)"
      ],
      "execution_count": 3,
      "outputs": [
        {
          "output_type": "display_data",
          "data": {
            "text/html": [
              ""
            ],
            "text/plain": [
              "<IPython.core.display.HTML object>"
            ]
          },
          "metadata": {
            "tags": []
          }
        }
      ]
    },
    {
      "cell_type": "code",
      "metadata": {
        "id": "b_h82VYqw8af"
      },
      "source": [
        "with open(path / \"README\") as readme:\n",
        "  for row in readme:\n",
        "    print(row)"
      ],
      "execution_count": null,
      "outputs": []
    },
    {
      "cell_type": "code",
      "metadata": {
        "colab": {
          "base_uri": "https://localhost:8080/",
          "height": 204
        },
        "id": "KHoQl5pNxC3D",
        "outputId": "3bacf971-d8fb-43bd-c806-63fdc6be2ae4"
      },
      "source": [
        "raw_df = pd.read_csv(path/\"u.data\", delimiter=\"\\t\", names=[\"user_id\", \"item_id\", \"rating\", \"timestamp\"])\n",
        "raw_df.head()"
      ],
      "execution_count": 24,
      "outputs": [
        {
          "output_type": "execute_result",
          "data": {
            "text/html": [
              "<div>\n",
              "<style scoped>\n",
              "    .dataframe tbody tr th:only-of-type {\n",
              "        vertical-align: middle;\n",
              "    }\n",
              "\n",
              "    .dataframe tbody tr th {\n",
              "        vertical-align: top;\n",
              "    }\n",
              "\n",
              "    .dataframe thead th {\n",
              "        text-align: right;\n",
              "    }\n",
              "</style>\n",
              "<table border=\"1\" class=\"dataframe\">\n",
              "  <thead>\n",
              "    <tr style=\"text-align: right;\">\n",
              "      <th></th>\n",
              "      <th>user_id</th>\n",
              "      <th>item_id</th>\n",
              "      <th>rating</th>\n",
              "      <th>timestamp</th>\n",
              "    </tr>\n",
              "  </thead>\n",
              "  <tbody>\n",
              "    <tr>\n",
              "      <th>0</th>\n",
              "      <td>196</td>\n",
              "      <td>242</td>\n",
              "      <td>3</td>\n",
              "      <td>881250949</td>\n",
              "    </tr>\n",
              "    <tr>\n",
              "      <th>1</th>\n",
              "      <td>186</td>\n",
              "      <td>302</td>\n",
              "      <td>3</td>\n",
              "      <td>891717742</td>\n",
              "    </tr>\n",
              "    <tr>\n",
              "      <th>2</th>\n",
              "      <td>22</td>\n",
              "      <td>377</td>\n",
              "      <td>1</td>\n",
              "      <td>878887116</td>\n",
              "    </tr>\n",
              "    <tr>\n",
              "      <th>3</th>\n",
              "      <td>244</td>\n",
              "      <td>51</td>\n",
              "      <td>2</td>\n",
              "      <td>880606923</td>\n",
              "    </tr>\n",
              "    <tr>\n",
              "      <th>4</th>\n",
              "      <td>166</td>\n",
              "      <td>346</td>\n",
              "      <td>1</td>\n",
              "      <td>886397596</td>\n",
              "    </tr>\n",
              "  </tbody>\n",
              "</table>\n",
              "</div>"
            ],
            "text/plain": [
              "   user_id  item_id  rating  timestamp\n",
              "0      196      242       3  881250949\n",
              "1      186      302       3  891717742\n",
              "2       22      377       1  878887116\n",
              "3      244       51       2  880606923\n",
              "4      166      346       1  886397596"
            ]
          },
          "metadata": {
            "tags": []
          },
          "execution_count": 24
        }
      ]
    },
    {
      "cell_type": "code",
      "metadata": {
        "colab": {
          "base_uri": "https://localhost:8080/",
          "height": 204
        },
        "id": "pIQLYUVlyQo8",
        "outputId": "f58bd8a1-cb9f-48ae-a4ac-112c9bce0f56"
      },
      "source": [
        "movie_df = pd.read_csv(path/\"u.item\", delimiter=\"|\", encoding=\"latin-1\", usecols=(0,1), names=('movie','title'), header=None)\n",
        "movie_df.head()"
      ],
      "execution_count": 23,
      "outputs": [
        {
          "output_type": "execute_result",
          "data": {
            "text/html": [
              "<div>\n",
              "<style scoped>\n",
              "    .dataframe tbody tr th:only-of-type {\n",
              "        vertical-align: middle;\n",
              "    }\n",
              "\n",
              "    .dataframe tbody tr th {\n",
              "        vertical-align: top;\n",
              "    }\n",
              "\n",
              "    .dataframe thead th {\n",
              "        text-align: right;\n",
              "    }\n",
              "</style>\n",
              "<table border=\"1\" class=\"dataframe\">\n",
              "  <thead>\n",
              "    <tr style=\"text-align: right;\">\n",
              "      <th></th>\n",
              "      <th>movie</th>\n",
              "      <th>title</th>\n",
              "    </tr>\n",
              "  </thead>\n",
              "  <tbody>\n",
              "    <tr>\n",
              "      <th>0</th>\n",
              "      <td>1</td>\n",
              "      <td>Toy Story (1995)</td>\n",
              "    </tr>\n",
              "    <tr>\n",
              "      <th>1</th>\n",
              "      <td>2</td>\n",
              "      <td>GoldenEye (1995)</td>\n",
              "    </tr>\n",
              "    <tr>\n",
              "      <th>2</th>\n",
              "      <td>3</td>\n",
              "      <td>Four Rooms (1995)</td>\n",
              "    </tr>\n",
              "    <tr>\n",
              "      <th>3</th>\n",
              "      <td>4</td>\n",
              "      <td>Get Shorty (1995)</td>\n",
              "    </tr>\n",
              "    <tr>\n",
              "      <th>4</th>\n",
              "      <td>5</td>\n",
              "      <td>Copycat (1995)</td>\n",
              "    </tr>\n",
              "  </tbody>\n",
              "</table>\n",
              "</div>"
            ],
            "text/plain": [
              "   movie              title\n",
              "0      1   Toy Story (1995)\n",
              "1      2   GoldenEye (1995)\n",
              "2      3  Four Rooms (1995)\n",
              "3      4  Get Shorty (1995)\n",
              "4      5     Copycat (1995)"
            ]
          },
          "metadata": {
            "tags": []
          },
          "execution_count": 23
        }
      ]
    },
    {
      "cell_type": "code",
      "metadata": {
        "colab": {
          "base_uri": "https://localhost:8080/",
          "height": 204
        },
        "id": "KVXp7VOpy7bO",
        "outputId": "bf19dcf5-0a3c-49d3-f5ac-6f9ac4d4e1dd"
      },
      "source": [
        "ratings = raw_df.merge(movie_df, left_on=\"item_id\", right_on=\"movie\")\n",
        "ratings.drop([\"movie\"], axis=1, inplace=True)\n",
        "ratings.head()"
      ],
      "execution_count": 29,
      "outputs": [
        {
          "output_type": "execute_result",
          "data": {
            "text/html": [
              "<div>\n",
              "<style scoped>\n",
              "    .dataframe tbody tr th:only-of-type {\n",
              "        vertical-align: middle;\n",
              "    }\n",
              "\n",
              "    .dataframe tbody tr th {\n",
              "        vertical-align: top;\n",
              "    }\n",
              "\n",
              "    .dataframe thead th {\n",
              "        text-align: right;\n",
              "    }\n",
              "</style>\n",
              "<table border=\"1\" class=\"dataframe\">\n",
              "  <thead>\n",
              "    <tr style=\"text-align: right;\">\n",
              "      <th></th>\n",
              "      <th>user_id</th>\n",
              "      <th>item_id</th>\n",
              "      <th>rating</th>\n",
              "      <th>timestamp</th>\n",
              "      <th>title</th>\n",
              "    </tr>\n",
              "  </thead>\n",
              "  <tbody>\n",
              "    <tr>\n",
              "      <th>0</th>\n",
              "      <td>196</td>\n",
              "      <td>242</td>\n",
              "      <td>3</td>\n",
              "      <td>881250949</td>\n",
              "      <td>Kolya (1996)</td>\n",
              "    </tr>\n",
              "    <tr>\n",
              "      <th>1</th>\n",
              "      <td>63</td>\n",
              "      <td>242</td>\n",
              "      <td>3</td>\n",
              "      <td>875747190</td>\n",
              "      <td>Kolya (1996)</td>\n",
              "    </tr>\n",
              "    <tr>\n",
              "      <th>2</th>\n",
              "      <td>226</td>\n",
              "      <td>242</td>\n",
              "      <td>5</td>\n",
              "      <td>883888671</td>\n",
              "      <td>Kolya (1996)</td>\n",
              "    </tr>\n",
              "    <tr>\n",
              "      <th>3</th>\n",
              "      <td>154</td>\n",
              "      <td>242</td>\n",
              "      <td>3</td>\n",
              "      <td>879138235</td>\n",
              "      <td>Kolya (1996)</td>\n",
              "    </tr>\n",
              "    <tr>\n",
              "      <th>4</th>\n",
              "      <td>306</td>\n",
              "      <td>242</td>\n",
              "      <td>5</td>\n",
              "      <td>876503793</td>\n",
              "      <td>Kolya (1996)</td>\n",
              "    </tr>\n",
              "  </tbody>\n",
              "</table>\n",
              "</div>"
            ],
            "text/plain": [
              "   user_id  item_id  rating  timestamp         title\n",
              "0      196      242       3  881250949  Kolya (1996)\n",
              "1       63      242       3  875747190  Kolya (1996)\n",
              "2      226      242       5  883888671  Kolya (1996)\n",
              "3      154      242       3  879138235  Kolya (1996)\n",
              "4      306      242       5  876503793  Kolya (1996)"
            ]
          },
          "metadata": {
            "tags": []
          },
          "execution_count": 29
        }
      ]
    },
    {
      "cell_type": "code",
      "metadata": {
        "id": "sV4DAf920Fda"
      },
      "source": [
        ""
      ],
      "execution_count": null,
      "outputs": []
    }
  ]
}