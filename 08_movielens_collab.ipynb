{
  "nbformat": 4,
  "nbformat_minor": 0,
  "metadata": {
    "colab": {
      "name": "08_movielens_collab.ipynb",
      "provenance": [],
      "authorship_tag": "ABX9TyMbM2oqp+vsr503JLPDAWCb",
      "include_colab_link": true
    },
    "kernelspec": {
      "name": "python3",
      "display_name": "Python 3"
    },
    "language_info": {
      "name": "python"
    },
    "accelerator": "GPU"
  },
  "cells": [
    {
      "cell_type": "markdown",
      "metadata": {
        "id": "view-in-github",
        "colab_type": "text"
      },
      "source": [
        "<a href=\"https://colab.research.google.com/github/LukeWeidenwalker/fastai-notebooks/blob/master/08_movielens_collab.ipynb\" target=\"_parent\"><img src=\"https://colab.research.google.com/assets/colab-badge.svg\" alt=\"Open In Colab\"/></a>"
      ]
    },
    {
      "cell_type": "code",
      "metadata": {
        "colab": {
          "base_uri": "https://localhost:8080/"
        },
        "id": "0l03gIrnwA5o",
        "outputId": "d500f69f-1059-4aec-e9a1-f4b8976fe1e8"
      },
      "source": [
        "!pip install -Uqq fastai"
      ],
      "execution_count": 1,
      "outputs": [
        {
          "output_type": "stream",
          "text": [
            "\u001b[?25l\r\u001b[K     |█▊                              | 10kB 23.7MB/s eta 0:00:01\r\u001b[K     |███▍                            | 20kB 29.4MB/s eta 0:00:01\r\u001b[K     |█████                           | 30kB 20.6MB/s eta 0:00:01\r\u001b[K     |██████▊                         | 40kB 16.3MB/s eta 0:00:01\r\u001b[K     |████████▍                       | 51kB 8.6MB/s eta 0:00:01\r\u001b[K     |██████████                      | 61kB 8.9MB/s eta 0:00:01\r\u001b[K     |███████████▉                    | 71kB 9.0MB/s eta 0:00:01\r\u001b[K     |█████████████▌                  | 81kB 9.2MB/s eta 0:00:01\r\u001b[K     |███████████████▏                | 92kB 10.0MB/s eta 0:00:01\r\u001b[K     |████████████████▉               | 102kB 8.3MB/s eta 0:00:01\r\u001b[K     |██████████████████▌             | 112kB 8.3MB/s eta 0:00:01\r\u001b[K     |████████████████████▏           | 122kB 8.3MB/s eta 0:00:01\r\u001b[K     |██████████████████████          | 133kB 8.3MB/s eta 0:00:01\r\u001b[K     |███████████████████████▋        | 143kB 8.3MB/s eta 0:00:01\r\u001b[K     |█████████████████████████▎      | 153kB 8.3MB/s eta 0:00:01\r\u001b[K     |███████████████████████████     | 163kB 8.3MB/s eta 0:00:01\r\u001b[K     |████████████████████████████▋   | 174kB 8.3MB/s eta 0:00:01\r\u001b[K     |██████████████████████████████▎ | 184kB 8.3MB/s eta 0:00:01\r\u001b[K     |████████████████████████████████| 194kB 8.3MB/s eta 0:00:01\r\u001b[K     |████████████████████████████████| 204kB 8.3MB/s \n",
            "\u001b[?25h\u001b[?25l\r\u001b[K     |██████                          | 10kB 31.5MB/s eta 0:00:01\r\u001b[K     |████████████▏                   | 20kB 37.9MB/s eta 0:00:01\r\u001b[K     |██████████████████▎             | 30kB 39.6MB/s eta 0:00:01\r\u001b[K     |████████████████████████▍       | 40kB 40.9MB/s eta 0:00:01\r\u001b[K     |██████████████████████████████▌ | 51kB 40.3MB/s eta 0:00:01\r\u001b[K     |████████████████████████████████| 61kB 9.4MB/s \n",
            "\u001b[?25h"
          ],
          "name": "stdout"
        }
      ]
    },
    {
      "cell_type": "code",
      "metadata": {
        "id": "7DjVLBsQwZmp"
      },
      "source": [
        "from fastai.vision.all import *"
      ],
      "execution_count": 2,
      "outputs": []
    },
    {
      "cell_type": "code",
      "metadata": {
        "colab": {
          "base_uri": "https://localhost:8080/",
          "height": 17
        },
        "id": "EL6RgQtMwlaq",
        "outputId": "c849f142-a559-422f-b12f-982e56db0a2e"
      },
      "source": [
        "path = untar_data(URLs.ML_100k)"
      ],
      "execution_count": 3,
      "outputs": [
        {
          "output_type": "display_data",
          "data": {
            "text/html": [
              ""
            ],
            "text/plain": [
              "<IPython.core.display.HTML object>"
            ]
          },
          "metadata": {
            "tags": []
          }
        }
      ]
    },
    {
      "cell_type": "code",
      "metadata": {
        "colab": {
          "base_uri": "https://localhost:8080/"
        },
        "id": "SRqw3mWPw0oX",
        "outputId": "f66684ac-d4ce-4581-9c0d-aba1921cdf81"
      },
      "source": [
        "path.ls()"
      ],
      "execution_count": 4,
      "outputs": [
        {
          "output_type": "execute_result",
          "data": {
            "text/plain": [
              "(#23) [Path('/root/.fastai/data/ml-100k/u.genre'),Path('/root/.fastai/data/ml-100k/u.occupation'),Path('/root/.fastai/data/ml-100k/u.info'),Path('/root/.fastai/data/ml-100k/u.user'),Path('/root/.fastai/data/ml-100k/mku.sh'),Path('/root/.fastai/data/ml-100k/ub.test'),Path('/root/.fastai/data/ml-100k/u3.test'),Path('/root/.fastai/data/ml-100k/ub.base'),Path('/root/.fastai/data/ml-100k/u1.base'),Path('/root/.fastai/data/ml-100k/u4.base')...]"
            ]
          },
          "metadata": {
            "tags": []
          },
          "execution_count": 4
        }
      ]
    },
    {
      "cell_type": "code",
      "metadata": {
        "colab": {
          "base_uri": "https://localhost:8080/"
        },
        "id": "nnngJCjuw2vd",
        "outputId": "0b5d6a81-83db-404b-9f26-80ed6b9a87c7"
      },
      "source": [
        ""
      ],
      "execution_count": 5,
      "outputs": [
        {
          "output_type": "execute_result",
          "data": {
            "text/plain": [
              "Path('/root/.fastai/data/ml-100k/README')"
            ]
          },
          "metadata": {
            "tags": []
          },
          "execution_count": 5
        }
      ]
    },
    {
      "cell_type": "code",
      "metadata": {
        "colab": {
          "base_uri": "https://localhost:8080/"
        },
        "id": "b_h82VYqw8af",
        "outputId": "598fee37-f158-476b-94f1-b3ef7d82577c"
      },
      "source": [
        "with open(path / \"README\") as readme:\n",
        "  for row in readme:\n",
        "    print(row)"
      ],
      "execution_count": 7,
      "outputs": [
        {
          "output_type": "stream",
          "text": [
            "SUMMARY & USAGE LICENSE\n",
            "\n",
            "=============================================\n",
            "\n",
            "\n",
            "\n",
            "MovieLens data sets were collected by the GroupLens Research Project\n",
            "\n",
            "at the University of Minnesota.\n",
            "\n",
            " \n",
            "\n",
            "This data set consists of:\n",
            "\n",
            "\t* 100,000 ratings (1-5) from 943 users on 1682 movies. \n",
            "\n",
            "\t* Each user has rated at least 20 movies. \n",
            "\n",
            "        * Simple demographic info for the users (age, gender, occupation, zip)\n",
            "\n",
            "\n",
            "\n",
            "The data was collected through the MovieLens web site\n",
            "\n",
            "(movielens.umn.edu) during the seven-month period from September 19th, \n",
            "\n",
            "1997 through April 22nd, 1998. This data has been cleaned up - users\n",
            "\n",
            "who had less than 20 ratings or did not have complete demographic\n",
            "\n",
            "information were removed from this data set. Detailed descriptions of\n",
            "\n",
            "the data file can be found at the end of this file.\n",
            "\n",
            "\n",
            "\n",
            "Neither the University of Minnesota nor any of the researchers\n",
            "\n",
            "involved can guarantee the correctness of the data, its suitability\n",
            "\n",
            "for any particular purpose, or the validity of results based on the\n",
            "\n",
            "use of the data set.  The data set may be used for any research\n",
            "\n",
            "purposes under the following conditions:\n",
            "\n",
            "\n",
            "\n",
            "     * The user may not state or imply any endorsement from the\n",
            "\n",
            "       University of Minnesota or the GroupLens Research Group.\n",
            "\n",
            "\n",
            "\n",
            "     * The user must acknowledge the use of the data set in\n",
            "\n",
            "       publications resulting from the use of the data set\n",
            "\n",
            "       (see below for citation information).\n",
            "\n",
            "\n",
            "\n",
            "     * The user may not redistribute the data without separate\n",
            "\n",
            "       permission.\n",
            "\n",
            "\n",
            "\n",
            "     * The user may not use this information for any commercial or\n",
            "\n",
            "       revenue-bearing purposes without first obtaining permission\n",
            "\n",
            "       from a faculty member of the GroupLens Research Project at the\n",
            "\n",
            "       University of Minnesota.\n",
            "\n",
            "\n",
            "\n",
            "If you have any further questions or comments, please contact GroupLens\n",
            "\n",
            "<grouplens-info@cs.umn.edu>. \n",
            "\n",
            "\n",
            "\n",
            "CITATION\n",
            "\n",
            "==============================================\n",
            "\n",
            "\n",
            "\n",
            "To acknowledge use of the dataset in publications, please cite the \n",
            "\n",
            "following paper:\n",
            "\n",
            "\n",
            "\n",
            "F. Maxwell Harper and Joseph A. Konstan. 2015. The MovieLens Datasets:\n",
            "\n",
            "History and Context. ACM Transactions on Interactive Intelligent\n",
            "\n",
            "Systems (TiiS) 5, 4, Article 19 (December 2015), 19 pages.\n",
            "\n",
            "DOI=http://dx.doi.org/10.1145/2827872\n",
            "\n",
            "\n",
            "\n",
            "\n",
            "\n",
            "ACKNOWLEDGEMENTS\n",
            "\n",
            "==============================================\n",
            "\n",
            "\n",
            "\n",
            "Thanks to Al Borchers for cleaning up this data and writing the\n",
            "\n",
            "accompanying scripts.\n",
            "\n",
            "\n",
            "\n",
            "PUBLISHED WORK THAT HAS USED THIS DATASET\n",
            "\n",
            "==============================================\n",
            "\n",
            "\n",
            "\n",
            "Herlocker, J., Konstan, J., Borchers, A., Riedl, J.. An Algorithmic\n",
            "\n",
            "Framework for Performing Collaborative Filtering. Proceedings of the\n",
            "\n",
            "1999 Conference on Research and Development in Information\n",
            "\n",
            "Retrieval. Aug. 1999.\n",
            "\n",
            "\n",
            "\n",
            "FURTHER INFORMATION ABOUT THE GROUPLENS RESEARCH PROJECT\n",
            "\n",
            "==============================================\n",
            "\n",
            "\n",
            "\n",
            "The GroupLens Research Project is a research group in the Department\n",
            "\n",
            "of Computer Science and Engineering at the University of Minnesota.\n",
            "\n",
            "Members of the GroupLens Research Project are involved in many\n",
            "\n",
            "research projects related to the fields of information filtering,\n",
            "\n",
            "collaborative filtering, and recommender systems. The project is lead\n",
            "\n",
            "by professors John Riedl and Joseph Konstan. The project began to\n",
            "\n",
            "explore automated collaborative filtering in 1992, but is most well\n",
            "\n",
            "known for its world wide trial of an automated collaborative filtering\n",
            "\n",
            "system for Usenet news in 1996.  The technology developed in the\n",
            "\n",
            "Usenet trial formed the base for the formation of Net Perceptions,\n",
            "\n",
            "Inc., which was founded by members of GroupLens Research. Since then\n",
            "\n",
            "the project has expanded its scope to research overall information\n",
            "\n",
            "filtering solutions, integrating in content-based methods as well as\n",
            "\n",
            "improving current collaborative filtering technology.\n",
            "\n",
            "\n",
            "\n",
            "Further information on the GroupLens Research project, including\n",
            "\n",
            "research publications, can be found at the following web site:\n",
            "\n",
            "        \n",
            "\n",
            "        http://www.grouplens.org/\n",
            "\n",
            "\n",
            "\n",
            "GroupLens Research currently operates a movie recommender based on\n",
            "\n",
            "collaborative filtering:\n",
            "\n",
            "\n",
            "\n",
            "        http://www.movielens.org/\n",
            "\n",
            "\n",
            "\n",
            "DETAILED DESCRIPTIONS OF DATA FILES\n",
            "\n",
            "==============================================\n",
            "\n",
            "\n",
            "\n",
            "Here are brief descriptions of the data.\n",
            "\n",
            "\n",
            "\n",
            "ml-data.tar.gz   -- Compressed tar file.  To rebuild the u data files do this:\n",
            "\n",
            "                gunzip ml-data.tar.gz\n",
            "\n",
            "                tar xvf ml-data.tar\n",
            "\n",
            "                mku.sh\n",
            "\n",
            "\n",
            "\n",
            "u.data     -- The full u data set, 100000 ratings by 943 users on 1682 items.\n",
            "\n",
            "              Each user has rated at least 20 movies.  Users and items are\n",
            "\n",
            "              numbered consecutively from 1.  The data is randomly\n",
            "\n",
            "              ordered. This is a tab separated list of \n",
            "\n",
            "\t         user id | item id | rating | timestamp. \n",
            "\n",
            "              The time stamps are unix seconds since 1/1/1970 UTC   \n",
            "\n",
            "\n",
            "\n",
            "u.info     -- The number of users, items, and ratings in the u data set.\n",
            "\n",
            "\n",
            "\n",
            "u.item     -- Information about the items (movies); this is a tab separated\n",
            "\n",
            "              list of\n",
            "\n",
            "              movie id | movie title | release date | video release date |\n",
            "\n",
            "              IMDb URL | unknown | Action | Adventure | Animation |\n",
            "\n",
            "              Children's | Comedy | Crime | Documentary | Drama | Fantasy |\n",
            "\n",
            "              Film-Noir | Horror | Musical | Mystery | Romance | Sci-Fi |\n",
            "\n",
            "              Thriller | War | Western |\n",
            "\n",
            "              The last 19 fields are the genres, a 1 indicates the movie\n",
            "\n",
            "              is of that genre, a 0 indicates it is not; movies can be in\n",
            "\n",
            "              several genres at once.\n",
            "\n",
            "              The movie ids are the ones used in the u.data data set.\n",
            "\n",
            "\n",
            "\n",
            "u.genre    -- A list of the genres.\n",
            "\n",
            "\n",
            "\n",
            "u.user     -- Demographic information about the users; this is a tab\n",
            "\n",
            "              separated list of\n",
            "\n",
            "              user id | age | gender | occupation | zip code\n",
            "\n",
            "              The user ids are the ones used in the u.data data set.\n",
            "\n",
            "\n",
            "\n",
            "u.occupation -- A list of the occupations.\n",
            "\n",
            "\n",
            "\n",
            "u1.base    -- The data sets u1.base and u1.test through u5.base and u5.test\n",
            "\n",
            "u1.test       are 80%/20% splits of the u data into training and test data.\n",
            "\n",
            "u2.base       Each of u1, ..., u5 have disjoint test sets; this if for\n",
            "\n",
            "u2.test       5 fold cross validation (where you repeat your experiment\n",
            "\n",
            "u3.base       with each training and test set and average the results).\n",
            "\n",
            "u3.test       These data sets can be generated from u.data by mku.sh.\n",
            "\n",
            "u4.base\n",
            "\n",
            "u4.test\n",
            "\n",
            "u5.base\n",
            "\n",
            "u5.test\n",
            "\n",
            "\n",
            "\n",
            "ua.base    -- The data sets ua.base, ua.test, ub.base, and ub.test\n",
            "\n",
            "ua.test       split the u data into a training set and a test set with\n",
            "\n",
            "ub.base       exactly 10 ratings per user in the test set.  The sets\n",
            "\n",
            "ub.test       ua.test and ub.test are disjoint.  These data sets can\n",
            "\n",
            "              be generated from u.data by mku.sh.\n",
            "\n",
            "\n",
            "\n",
            "allbut.pl  -- The script that generates training and test sets where\n",
            "\n",
            "              all but n of a users ratings are in the training data.\n",
            "\n",
            "\n",
            "\n",
            "mku.sh     -- A shell script to generate all the u data sets from u.data.\n",
            "\n"
          ],
          "name": "stdout"
        }
      ]
    },
    {
      "cell_type": "code",
      "metadata": {
        "id": "KHoQl5pNxC3D"
      },
      "source": [
        ""
      ],
      "execution_count": null,
      "outputs": []
    }
  ]
}