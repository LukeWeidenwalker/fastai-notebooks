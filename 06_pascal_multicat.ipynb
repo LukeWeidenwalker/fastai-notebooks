{
  "nbformat": 4,
  "nbformat_minor": 0,
  "metadata": {
    "colab": {
      "name": "06_pascal_multicat.ipynb",
      "provenance": [],
      "authorship_tag": "ABX9TyNz5YcWUXmC+vrjiHdl/IjT"
    },
    "kernelspec": {
      "name": "python3",
      "display_name": "Python 3"
    },
    "accelerator": "GPU"
  },
  "cells": [
    {
      "cell_type": "code",
      "metadata": {
        "id": "370phbPhklq_"
      },
      "source": [
        "#hide\n",
        "!pip install fastai==2.2.5"
      ],
      "execution_count": null,
      "outputs": []
    },
    {
      "cell_type": "code",
      "metadata": {
        "id": "BxhgodJEk0DD"
      },
      "source": [
        "from fastai.vision.all import *"
      ],
      "execution_count": null,
      "outputs": []
    },
    {
      "cell_type": "code",
      "metadata": {
        "id": "zayeeI60ruQZ"
      },
      "source": [
        "from ipywidgets import FileUpload, Output, Label, VBox, Button"
      ],
      "execution_count": null,
      "outputs": []
    },
    {
      "cell_type": "code",
      "metadata": {
        "id": "RCbk2BPYk4GA"
      },
      "source": [
        "path = untar_data(URLs.PASCAL_2007)"
      ],
      "execution_count": null,
      "outputs": []
    },
    {
      "cell_type": "code",
      "metadata": {
        "id": "MuJRoh-9m3i_"
      },
      "source": [
        "path.ls()\n"
      ],
      "execution_count": null,
      "outputs": []
    },
    {
      "cell_type": "code",
      "metadata": {
        "id": "l8pxe2eXmX78"
      },
      "source": [
        "(path / \"train\") .ls()"
      ],
      "execution_count": null,
      "outputs": []
    },
    {
      "cell_type": "code",
      "metadata": {
        "id": "a7ienxW5mgRu"
      },
      "source": [
        "Image.open((path / \"train/009463.jpg\"))"
      ],
      "execution_count": null,
      "outputs": []
    },
    {
      "cell_type": "code",
      "metadata": {
        "id": "NwVjtnxAm_0V"
      },
      "source": [
        "df = pd.read_csv(path / \"train.csv\")"
      ],
      "execution_count": null,
      "outputs": []
    },
    {
      "cell_type": "code",
      "metadata": {
        "id": "1widBKvtnH5t"
      },
      "source": [
        "df.head(5)"
      ],
      "execution_count": null,
      "outputs": []
    },
    {
      "cell_type": "code",
      "metadata": {
        "id": "LGA8bphZk7-g"
      },
      "source": [
        "def get_x(r): return (path/\"train\") / r[\"fname\"]\n",
        "def get_y(r): return r[\"labels\"].split(\" \")\n",
        "def splitter(df):\n",
        "  train = df.index[~df[\"is_valid\"]].tolist()\n",
        "  valid = df.index[df[\"is_valid\"]].tolist()\n",
        "  return train,valid\n",
        "  \n",
        "dblock = DataBlock(blocks=(ImageBlock, MultiCategoryBlock), \n",
        "                         get_x=get_x, \n",
        "                         get_y=get_y, \n",
        "                         splitter=splitter,\n",
        "                         item_tfms= RandomResizedCrop(128, min_scale=0.35))"
      ],
      "execution_count": null,
      "outputs": []
    },
    {
      "cell_type": "code",
      "metadata": {
        "id": "NRWn34XEoNOo"
      },
      "source": [
        "dls = dblock.dataloaders(df)"
      ],
      "execution_count": null,
      "outputs": []
    },
    {
      "cell_type": "code",
      "metadata": {
        "id": "hc1R2Yf2t_Wg"
      },
      "source": [
        "dls.one_batch()[0].shape"
      ],
      "execution_count": null,
      "outputs": []
    },
    {
      "cell_type": "code",
      "metadata": {
        "id": "4CdNk7AxoZ82"
      },
      "source": [
        "dls.show_batch()"
      ],
      "execution_count": null,
      "outputs": []
    },
    {
      "cell_type": "markdown",
      "metadata": {
        "id": "sv7CbVL5t2wU"
      },
      "source": [
        "## Baseline"
      ]
    },
    {
      "cell_type": "code",
      "metadata": {
        "id": "DXkx-DEUuYdm"
      },
      "source": [
        "class AllZeroModel(nn.Module):\n",
        "    def __init__(self):\n",
        "        super(AllZeroModel, self).__init__()\n",
        "\n",
        "    def forward(self, x):\n",
        "        output = torch.zeros(x.shape[0], 20).to(\"cuda:0\")\n",
        "        return output"
      ],
      "execution_count": null,
      "outputs": []
    },
    {
      "cell_type": "code",
      "metadata": {
        "id": "p8CzfyO7PqM-"
      },
      "source": [
        "model = AllZeroModel()"
      ],
      "execution_count": null,
      "outputs": []
    },
    {
      "cell_type": "code",
      "metadata": {
        "id": "MSltUTAJt2cq"
      },
      "source": [
        "learn = Learner(dls, AllZeroModel(), metrics=[accuracy_multi])"
      ],
      "execution_count": null,
      "outputs": []
    },
    {
      "cell_type": "code",
      "metadata": {
        "id": "JFGZlGtLO8IE"
      },
      "source": [
        "learn.show_results()"
      ],
      "execution_count": null,
      "outputs": []
    },
    {
      "cell_type": "code",
      "metadata": {
        "id": "Z-fCmkApS7VP"
      },
      "source": [
        "learn.validate()"
      ],
      "execution_count": null,
      "outputs": []
    },
    {
      "cell_type": "markdown",
      "metadata": {
        "id": "DmXRBpVJt8yB"
      },
      "source": [
        "## CNN Learner"
      ]
    },
    {
      "cell_type": "code",
      "metadata": {
        "id": "iOP_vKMwoi4e"
      },
      "source": [
        "learn = cnn_learner(dls, resnet34, metrics=[accuracy_multi])\n",
        "learn.fine_tune(3, freeze_epochs=2)"
      ],
      "execution_count": null,
      "outputs": []
    },
    {
      "cell_type": "code",
      "metadata": {
        "id": "698jntxlNCrj"
      },
      "source": [
        "# BCEWithLogitsLoss and MultiAccuracy before training\n",
        "learn.validate()"
      ],
      "execution_count": null,
      "outputs": []
    },
    {
      "cell_type": "code",
      "metadata": {
        "id": "E2H88tYTu9uJ"
      },
      "source": [
        "learn.show_results()"
      ],
      "execution_count": null,
      "outputs": []
    },
    {
      "cell_type": "code",
      "metadata": {
        "id": "wFTM46Xiq8gq"
      },
      "source": [
        "upload = FileUpload()\n",
        "out_pl = Output()\n",
        "lbl_pred = Label()\n",
        "btn_run = Button(description=\"classify\")\n",
        "\n",
        "def on_click_classify(change):\n",
        "  img = PILImage.create(upload.data[-1])\n",
        "  out_pl.clear_output()\n",
        "  with out_pl: display(img.to_thumb(128, 128))\n",
        "  pred, pred_idx, probs = learn.predict(tensor(img))\n",
        "  lbl_pred.value = f'Prediction {pred}, Probability: {probs[pred_idx]}'\n",
        "\n",
        "btn_run.on_click(on_click_classify)"
      ],
      "execution_count": null,
      "outputs": []
    },
    {
      "cell_type": "code",
      "metadata": {
        "id": "LNIekTORLCQh"
      },
      "source": [
        "VBox([upload, btn_run, out_pl, lbl_pred])"
      ],
      "execution_count": null,
      "outputs": []
    },
    {
      "cell_type": "code",
      "metadata": {
        "id": "olJgez9Br1qJ"
      },
      "source": [
        "learn.predict(upload.data[-1])\n",
        "print(pred)\n",
        "print(list(zip(dls.vocab, probs)))"
      ],
      "execution_count": null,
      "outputs": []
    },
    {
      "cell_type": "code",
      "metadata": {
        "id": "ZIQSaenIs-5L"
      },
      "source": [
        ""
      ],
      "execution_count": null,
      "outputs": []
    }
  ]
}